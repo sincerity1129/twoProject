{
 "cells": [
  {
   "cell_type": "code",
   "execution_count": 5,
   "metadata": {},
   "outputs": [],
   "source": [
    "import numpy as np\n",
    "import pandas as pd\n",
    "import matplotlib.pyplot as plt\n",
    "import seaborn as sns # 시각화 라이브러리\n",
    "import warnings # 경고창 없애기\n",
    "import seaborn as sns\n",
    "warnings.filterwarnings('ignore')"
   ]
  },
  {
   "cell_type": "markdown",
   "metadata": {},
   "source": [
    "# "
   ]
  },
  {
   "cell_type": "markdown",
   "metadata": {},
   "source": [
    "# 데이터 수집"
   ]
  },
  {
   "cell_type": "code",
   "execution_count": 6,
   "metadata": {},
   "outputs": [],
   "source": [
    "# 데이터 전처리\n",
    "X = pd.read_csv('./maemaefilter.csv')"
   ]
  },
  {
   "cell_type": "markdown",
   "metadata": {},
   "source": [
    "# 데이터 전처리"
   ]
  },
  {
   "cell_type": "code",
   "execution_count": 7,
   "metadata": {
    "scrolled": true
   },
   "outputs": [
    {
     "data": {
      "text/html": [
       "<div>\n",
       "<style scoped>\n",
       "    .dataframe tbody tr th:only-of-type {\n",
       "        vertical-align: middle;\n",
       "    }\n",
       "\n",
       "    .dataframe tbody tr th {\n",
       "        vertical-align: top;\n",
       "    }\n",
       "\n",
       "    .dataframe thead th {\n",
       "        text-align: right;\n",
       "    }\n",
       "</style>\n",
       "<table border=\"1\" class=\"dataframe\">\n",
       "  <thead>\n",
       "    <tr style=\"text-align: right;\">\n",
       "      <th></th>\n",
       "      <th>매매번호</th>\n",
       "      <th>법정동</th>\n",
       "      <th>거래금액</th>\n",
       "      <th>건축년도</th>\n",
       "      <th>아파트</th>\n",
       "      <th>년</th>\n",
       "      <th>월</th>\n",
       "      <th>일</th>\n",
       "      <th>평수</th>\n",
       "      <th>층</th>\n",
       "      <th>범죄자수</th>\n",
       "      <th>충전소</th>\n",
       "      <th>지하철</th>\n",
       "      <th>스타벅스</th>\n",
       "      <th>영화관</th>\n",
       "    </tr>\n",
       "  </thead>\n",
       "  <tbody>\n",
       "    <tr>\n",
       "      <th>0</th>\n",
       "      <td>0</td>\n",
       "      <td>중흥동</td>\n",
       "      <td>15,000</td>\n",
       "      <td>2015</td>\n",
       "      <td>중흥동도나우타운</td>\n",
       "      <td>2020</td>\n",
       "      <td>10</td>\n",
       "      <td>8</td>\n",
       "      <td>18</td>\n",
       "      <td>5</td>\n",
       "      <td>8.0</td>\n",
       "      <td>0</td>\n",
       "      <td>2호선</td>\n",
       "      <td>1.0</td>\n",
       "      <td>메가박스</td>\n",
       "    </tr>\n",
       "    <tr>\n",
       "      <th>1</th>\n",
       "      <td>1</td>\n",
       "      <td>중흥동</td>\n",
       "      <td>34,000</td>\n",
       "      <td>2015</td>\n",
       "      <td>중흥동 영무예다음 아파트</td>\n",
       "      <td>2020</td>\n",
       "      <td>10</td>\n",
       "      <td>10</td>\n",
       "      <td>25</td>\n",
       "      <td>6</td>\n",
       "      <td>8.0</td>\n",
       "      <td>0</td>\n",
       "      <td>2호선</td>\n",
       "      <td>1.0</td>\n",
       "      <td>메가박스</td>\n",
       "    </tr>\n",
       "    <tr>\n",
       "      <th>2</th>\n",
       "      <td>2</td>\n",
       "      <td>중흥동</td>\n",
       "      <td>10,750</td>\n",
       "      <td>1981</td>\n",
       "      <td>평화맨션</td>\n",
       "      <td>2020</td>\n",
       "      <td>10</td>\n",
       "      <td>14</td>\n",
       "      <td>22</td>\n",
       "      <td>4</td>\n",
       "      <td>8.0</td>\n",
       "      <td>0</td>\n",
       "      <td>2호선</td>\n",
       "      <td>1.0</td>\n",
       "      <td>메가박스</td>\n",
       "    </tr>\n",
       "    <tr>\n",
       "      <th>3</th>\n",
       "      <td>3</td>\n",
       "      <td>중흥동</td>\n",
       "      <td>21,800</td>\n",
       "      <td>1991</td>\n",
       "      <td>모아1</td>\n",
       "      <td>2020</td>\n",
       "      <td>10</td>\n",
       "      <td>15</td>\n",
       "      <td>25</td>\n",
       "      <td>4</td>\n",
       "      <td>8.0</td>\n",
       "      <td>0</td>\n",
       "      <td>2호선</td>\n",
       "      <td>1.0</td>\n",
       "      <td>메가박스</td>\n",
       "    </tr>\n",
       "    <tr>\n",
       "      <th>4</th>\n",
       "      <td>4</td>\n",
       "      <td>중흥동</td>\n",
       "      <td>20,000</td>\n",
       "      <td>2017</td>\n",
       "      <td>프라임 아너팰리스</td>\n",
       "      <td>2020</td>\n",
       "      <td>10</td>\n",
       "      <td>16</td>\n",
       "      <td>19</td>\n",
       "      <td>15</td>\n",
       "      <td>8.0</td>\n",
       "      <td>0</td>\n",
       "      <td>2호선</td>\n",
       "      <td>1.0</td>\n",
       "      <td>메가박스</td>\n",
       "    </tr>\n",
       "  </tbody>\n",
       "</table>\n",
       "</div>"
      ],
      "text/plain": [
       "   매매번호  법정동    거래금액  건축년도            아파트     년   월   일  평수   층  범죄자수  충전소  \\\n",
       "0     0  중흥동  15,000  2015       중흥동도나우타운  2020  10   8  18   5   8.0    0   \n",
       "1     1  중흥동  34,000  2015  중흥동 영무예다음 아파트  2020  10  10  25   6   8.0    0   \n",
       "2     2  중흥동  10,750  1981           평화맨션  2020  10  14  22   4   8.0    0   \n",
       "3     3  중흥동  21,800  1991            모아1  2020  10  15  25   4   8.0    0   \n",
       "4     4  중흥동  20,000  2017      프라임 아너팰리스  2020  10  16  19  15   8.0    0   \n",
       "\n",
       "   지하철  스타벅스   영화관  \n",
       "0  2호선   1.0  메가박스  \n",
       "1  2호선   1.0  메가박스  \n",
       "2  2호선   1.0  메가박스  \n",
       "3  2호선   1.0  메가박스  \n",
       "4  2호선   1.0  메가박스  "
      ]
     },
     "execution_count": 7,
     "metadata": {},
     "output_type": "execute_result"
    }
   ],
   "source": [
    "X.head()\n",
    "# 매매번호, 법정동, 아파트, 년, 월, 일 drop"
   ]
  },
  {
   "cell_type": "markdown",
   "metadata": {},
   "source": [
    "## 결측치 채우기"
   ]
  },
  {
   "cell_type": "code",
   "execution_count": 8,
   "metadata": {},
   "outputs": [],
   "source": [
    "X['범죄자수'] = X['범죄자수'].fillna(0)\n",
    "X['스타벅스'] = X['스타벅스'].fillna(0)"
   ]
  },
  {
   "cell_type": "markdown",
   "metadata": {},
   "source": [
    "## 속성정리"
   ]
  },
  {
   "cell_type": "code",
   "execution_count": 9,
   "metadata": {},
   "outputs": [],
   "source": [
    "# 매매번호, 법정동, 아파트, 년, 월, 일 drop\n",
    "X = X.drop(['매매번호', '법정동', '아파트', '년', '월', '일'], axis=1)"
   ]
  },
  {
   "cell_type": "markdown",
   "metadata": {},
   "source": [
    "## 거래금액 \n",
    "### 거래금액 쉼표제거, 자료형 Object -> int"
   ]
  },
  {
   "cell_type": "code",
   "execution_count": 10,
   "metadata": {},
   "outputs": [],
   "source": [
    "X['거래금액'] = X['거래금액'].str.replace(',', '')\n",
    "X['거래금액'] = X['거래금액'].astype(int)"
   ]
  },
  {
   "cell_type": "markdown",
   "metadata": {},
   "source": [
    "### y정해주기 y = X['거래금액']"
   ]
  },
  {
   "cell_type": "code",
   "execution_count": 11,
   "metadata": {},
   "outputs": [],
   "source": [
    "y = pd.DataFrame(X['거래금액'])"
   ]
  },
  {
   "cell_type": "markdown",
   "metadata": {},
   "source": [
    "###  거래금액 -> price_group"
   ]
  },
  {
   "cell_type": "code",
   "execution_count": 12,
   "metadata": {},
   "outputs": [
    {
     "data": {
      "text/plain": [
       "15000     306\n",
       "12000     284\n",
       "14000     266\n",
       "16000     262\n",
       "13000     262\n",
       "         ... \n",
       "153500      1\n",
       "204000      1\n",
       "31980       1\n",
       "54100       1\n",
       "7050        1\n",
       "Name: 거래금액, Length: 1545, dtype: int64"
      ]
     },
     "execution_count": 12,
     "metadata": {},
     "output_type": "execute_result"
    }
   ],
   "source": [
    "X['거래금액'].value_counts()"
   ]
  },
  {
   "cell_type": "code",
   "execution_count": 13,
   "metadata": {
    "scrolled": false
   },
   "outputs": [
    {
     "data": {
      "text/plain": [
       "count     30826.000000\n",
       "mean      26377.957666\n",
       "std       17027.640549\n",
       "min        3000.000000\n",
       "25%       14000.000000\n",
       "50%       22200.000000\n",
       "75%       34100.000000\n",
       "max      204000.000000\n",
       "Name: 거래금액, dtype: float64"
      ]
     },
     "execution_count": 13,
     "metadata": {},
     "output_type": "execute_result"
    }
   ],
   "source": [
    "X['거래금액'].describe()"
   ]
  },
  {
   "cell_type": "code",
   "execution_count": 14,
   "metadata": {},
   "outputs": [],
   "source": [
    "# bins : 구간\n",
    "# 0초과 1이하, 1초과 4이하, 4초과 20이하\n",
    "bins = [2900, 13000, 15000, 18000, \n",
    "        22000, 27000, 35000, \n",
    "        40000, 45000, 50000, 55000, \n",
    "        60000, 70000, 80000, 90000, 100000, \n",
    "        110000, 120000, 130000, 140000, \n",
    "        150000, 160000, 180000, 205000]\n",
    "# labels 구간별 명칭\n",
    "labels = [10000, 14000, 16500, 20000, \n",
    "          24000, 31000, 37500, \n",
    "          42500, 47500, 52500, 57500, \n",
    "          65000, 75000, 85000, 95000, 105000, \n",
    "          115000, 125000, 135000, 145000, \n",
    "          160000, 170000, 200000]\n",
    "# cut 함수 : 카테고리(범주형) 데이터를 만듦 bins => 속성 값 / labels => 범주 이름\n",
    "X_cut = pd.cut(X['거래금액'], bins = bins, labels = labels)\n",
    "X['price_group'] = X_cut"
   ]
  },
  {
   "cell_type": "code",
   "execution_count": null,
   "metadata": {},
   "outputs": [],
   "source": []
  },
  {
   "cell_type": "markdown",
   "metadata": {},
   "source": [
    "## 건축년도"
   ]
  },
  {
   "cell_type": "code",
   "execution_count": 15,
   "metadata": {},
   "outputs": [],
   "source": [
    "# 1995년 전에는 낡아서 가격이 별 차이 없을거라고 생각함\n",
    "bins = [1975, 1985, 1995, 2000, 2005, 2010, 2015, 2020, 2025]\n",
    "labels = [1, 500, 1000, 1500, 2000, 2500, 3000, 3500]\n",
    "X_cut = pd.cut(X['건축년도'], bins = bins, labels = labels)\n",
    "X['arch_group'] = X_cut"
   ]
  },
  {
   "cell_type": "markdown",
   "metadata": {},
   "source": [
    "## 평수"
   ]
  },
  {
   "cell_type": "code",
   "execution_count": 16,
   "metadata": {},
   "outputs": [],
   "source": [
    "# bins :구간\n",
    "# 0 초과 1이하, 1초과 4이하 ~\n",
    "bins = [0, 6, 12, 18, 24, 30, 36, 42, 48, 54, 60, 66, 72, 78, 85]\n",
    "labels = [1, 500, 1000, 1500, 2500, 3000, 3500, 4500, 5000, 5500, 6000, 6500, 7000, 7500]\n",
    "X_cut = pd.cut(X['평수'], bins = bins, labels = labels)\n",
    "X['area_group'] = X_cut"
   ]
  },
  {
   "cell_type": "markdown",
   "metadata": {},
   "source": [
    "## 층"
   ]
  },
  {
   "cell_type": "code",
   "execution_count": 17,
   "metadata": {},
   "outputs": [],
   "source": [
    "# bins : 구간\n",
    "# 0초과 1이하, 1초과 4이하, 4초과 20이하\n",
    "bins = [0, 5, 10, 15, 20, 25, 30, 35, 40, 45, 50]\n",
    "# labels 구간별 명칭\n",
    "labels = [1, 500, 1000, 1500, 2000, 2500, 3000, 3500, 4000, 4500]\n",
    "# cut 함수 : 카테고리(범주형) 데이터를 만듦 bins => 속성 값 / labels => 범주 이름\n",
    "X_cut = pd.cut(X['층'], bins = bins, labels = labels)\n",
    "X['layer_group'] = X_cut"
   ]
  },
  {
   "cell_type": "markdown",
   "metadata": {},
   "source": [
    "## 그룹화한 컬럼들 지우기, 그룹화자료형 : 카테고리형 > 정수형"
   ]
  },
  {
   "cell_type": "code",
   "execution_count": 18,
   "metadata": {},
   "outputs": [],
   "source": [
    "# 추가한 컬럼 남기고 기존 컬럼 지우기\n",
    "X = X.drop(['거래금액', '건축년도', '평수', '층'], axis = 1)"
   ]
  },
  {
   "cell_type": "code",
   "execution_count": 19,
   "metadata": {},
   "outputs": [],
   "source": [
    "X['price_group'] = X['price_group'].astype(int)\n",
    "X['arch_group'] = X['arch_group'].astype(int)\n",
    "X['area_group'] = X['area_group'].astype(int)\n",
    "X['layer_group'] = X['layer_group'].astype(int)"
   ]
  },
  {
   "cell_type": "markdown",
   "metadata": {},
   "source": [
    "## 범죄자수 자료형 float-> int"
   ]
  },
  {
   "cell_type": "code",
   "execution_count": 20,
   "metadata": {},
   "outputs": [],
   "source": [
    "X['범죄자수'] = X['범죄자수'].astype(int)"
   ]
  },
  {
   "cell_type": "code",
   "execution_count": 21,
   "metadata": {
    "scrolled": true
   },
   "outputs": [
    {
     "data": {
      "text/plain": [
       "0    12766\n",
       "1     8066\n",
       "2     3923\n",
       "4     3154\n",
       "3     1304\n",
       "5     1235\n",
       "8      378\n",
       "Name: 범죄자수, dtype: int64"
      ]
     },
     "execution_count": 21,
     "metadata": {},
     "output_type": "execute_result"
    }
   ],
   "source": [
    "X['범죄자수'].value_counts()"
   ]
  },
  {
   "cell_type": "code",
   "execution_count": 22,
   "metadata": {},
   "outputs": [],
   "source": [
    "# bins : 구간\n",
    "# 0초과 1이하, 1초과 4이하, 4초과 20이하\n",
    "bins = [-1, 0, 1, 2, 3, 4, 5, 8]\n",
    "# labels 구간별 명칭\n",
    "labels = [0, -500, -1000, -1500, -2000, -2500, -3000]\n",
    "# cut 함수 : 카테고리(범주형) 데이터를 만듦 bins => 속성 값 / labels => 범주 이름\n",
    "X_cut = pd.cut(X['범죄자수'], bins = bins, labels = labels)\n",
    "X['criminal_group'] = X_cut\n",
    "X['criminal_group'] = X['criminal_group'].astype(int)"
   ]
  },
  {
   "cell_type": "code",
   "execution_count": 23,
   "metadata": {
    "scrolled": true
   },
   "outputs": [
    {
     "data": {
      "text/plain": [
       " 0       12766\n",
       "-500      8066\n",
       "-1000     3923\n",
       "-2000     3154\n",
       "-1500     1304\n",
       "-2500     1235\n",
       "-3000      378\n",
       "Name: criminal_group, dtype: int64"
      ]
     },
     "execution_count": 23,
     "metadata": {},
     "output_type": "execute_result"
    }
   ],
   "source": [
    "X['criminal_group'].value_counts()"
   ]
  },
  {
   "cell_type": "code",
   "execution_count": 24,
   "metadata": {},
   "outputs": [],
   "source": [
    "# crime_map = {\n",
    "#     0:0,\n",
    "#     1:-1,\n",
    "#     2:-2,\n",
    "#     3:-3,\n",
    "#     4:-4,\n",
    "#     5:-5,\n",
    "#     8:-8\n",
    "# }"
   ]
  },
  {
   "cell_type": "code",
   "execution_count": 25,
   "metadata": {},
   "outputs": [],
   "source": [
    "# X['범죄자수'] = X['범죄자수'].map(crime_map, X['범죄자수'])"
   ]
  },
  {
   "cell_type": "markdown",
   "metadata": {},
   "source": [
    "## 스타벅스 자료형 float-> int"
   ]
  },
  {
   "cell_type": "code",
   "execution_count": 26,
   "metadata": {},
   "outputs": [],
   "source": [
    "# bins : 구간\n",
    "# 0초과 1이하, 1초과 4이하, 4초과 20이하\n",
    "bins = [-1, 0, 1]\n",
    "# labels 구간별 명칭\n",
    "labels = [0, 4000]\n",
    "# cut 함수 : 카테고리(범주형) 데이터를 만듦 bins => 속성 값 / labels => 범주 이름\n",
    "X_cut = pd.cut(X['스타벅스'], bins = bins, labels = labels)\n",
    "X['star_group'] = X_cut\n",
    "X['star_group'] = X['star_group'].astype(int)"
   ]
  },
  {
   "cell_type": "code",
   "execution_count": 27,
   "metadata": {},
   "outputs": [
    {
     "data": {
      "text/plain": [
       "4000    16839\n",
       "0       13987\n",
       "Name: star_group, dtype: int64"
      ]
     },
     "execution_count": 27,
     "metadata": {},
     "output_type": "execute_result"
    }
   ],
   "source": [
    "X['star_group'].value_counts()"
   ]
  },
  {
   "cell_type": "markdown",
   "metadata": {},
   "source": [
    "## 텍스트 데이터 지하철, 영화관\n",
    "### 지하철 매핑으로 숫자로 바꿔주기"
   ]
  },
  {
   "cell_type": "code",
   "execution_count": 28,
   "metadata": {},
   "outputs": [],
   "source": [
    "sub_map = {\n",
    "    '2호선':2,\n",
    "    '0':0,\n",
    "    '1호선':1\n",
    "}"
   ]
  },
  {
   "cell_type": "code",
   "execution_count": 29,
   "metadata": {},
   "outputs": [],
   "source": [
    "X['지하철'] = X['지하철'].map(sub_map, X['지하철'])"
   ]
  },
  {
   "cell_type": "code",
   "execution_count": 30,
   "metadata": {},
   "outputs": [
    {
     "data": {
      "text/plain": [
       "2    15115\n",
       "0    13178\n",
       "1     2533\n",
       "Name: 지하철, dtype: int64"
      ]
     },
     "execution_count": 30,
     "metadata": {},
     "output_type": "execute_result"
    }
   ],
   "source": [
    "X['지하철'].value_counts()"
   ]
  },
  {
   "cell_type": "code",
   "execution_count": 31,
   "metadata": {},
   "outputs": [],
   "source": [
    "# bins : 구간\n",
    "# 0초과 1이하, 1초과 4이하, 4초과 20이하\n",
    "bins = [-1, 0, 1, 2]\n",
    "# labels 구간별 명칭\n",
    "labels = [-2000, 1000, 4000]\n",
    "# cut 함수 : 카테고리(범주형) 데이터를 만듦 bins => 속성 값 / labels => 범주 이름\n",
    "X_cut = pd.cut(X['지하철'], bins = bins, labels = labels)\n",
    "X['subway_group'] = X_cut\n",
    "X['subway_group'] = X['subway_group'].astype(int)"
   ]
  },
  {
   "cell_type": "code",
   "execution_count": 32,
   "metadata": {},
   "outputs": [
    {
     "data": {
      "text/plain": [
       " 4000    15115\n",
       "-2000    13178\n",
       " 1000     2533\n",
       "Name: subway_group, dtype: int64"
      ]
     },
     "execution_count": 32,
     "metadata": {},
     "output_type": "execute_result"
    }
   ],
   "source": [
    "X['subway_group'].value_counts()"
   ]
  },
  {
   "cell_type": "markdown",
   "metadata": {},
   "source": [
    "### 영화관 매핑으로 0~ 2점 주기"
   ]
  },
  {
   "cell_type": "code",
   "execution_count": 33,
   "metadata": {},
   "outputs": [],
   "source": [
    "theater_map = {\n",
    "    '0':0,\n",
    "    'CGV':1,\n",
    "    '메가박스':1,\n",
    "    '롯데시네마':1,\n",
    "    '메가박스, 롯데시네마':2,\n",
    "    '메가박스, CGV':2\n",
    "}"
   ]
  },
  {
   "cell_type": "code",
   "execution_count": 34,
   "metadata": {
    "scrolled": true
   },
   "outputs": [],
   "source": [
    "X['영화관'] = X['영화관'].map(theater_map, X['영화관'])"
   ]
  },
  {
   "cell_type": "code",
   "execution_count": 35,
   "metadata": {},
   "outputs": [
    {
     "data": {
      "text/plain": [
       "0    27233\n",
       "1     1996\n",
       "2     1597\n",
       "Name: 영화관, dtype: int64"
      ]
     },
     "execution_count": 35,
     "metadata": {},
     "output_type": "execute_result"
    }
   ],
   "source": [
    "X['영화관'].value_counts()"
   ]
  },
  {
   "cell_type": "code",
   "execution_count": 36,
   "metadata": {},
   "outputs": [],
   "source": [
    "# bins : 구간\n",
    "# 0초과 1이하, 1초과 4이하, 4초과 20이하\n",
    "bins = [-1, 0, 1, 2]\n",
    "# labels 구간별 명칭\n",
    "labels = [0, 500, 1000]\n",
    "# cut 함수 : 카테고리(범주형) 데이터를 만듦 bins => 속성 값 / labels => 범주 이름\n",
    "X_cut = pd.cut(X[\"영화관\"], bins = bins, labels = labels)\n",
    "X['movie_group'] = X_cut\n",
    "X['movie_group'] = X['movie_group'].astype(int)"
   ]
  },
  {
   "cell_type": "code",
   "execution_count": 37,
   "metadata": {},
   "outputs": [
    {
     "data": {
      "text/plain": [
       "0       27233\n",
       "500      1996\n",
       "1000     1597\n",
       "Name: movie_group, dtype: int64"
      ]
     },
     "execution_count": 37,
     "metadata": {},
     "output_type": "execute_result"
    }
   ],
   "source": [
    "X['movie_group'].value_counts()"
   ]
  },
  {
   "cell_type": "markdown",
   "metadata": {},
   "source": [
    "### 전기차 충전소 값 주기"
   ]
  },
  {
   "cell_type": "code",
   "execution_count": 38,
   "metadata": {
    "scrolled": true
   },
   "outputs": [
    {
     "data": {
      "text/plain": [
       "0    26422\n",
       "1     4404\n",
       "Name: 충전소, dtype: int64"
      ]
     },
     "execution_count": 38,
     "metadata": {},
     "output_type": "execute_result"
    }
   ],
   "source": [
    "X['충전소'].value_counts()"
   ]
  },
  {
   "cell_type": "code",
   "execution_count": 39,
   "metadata": {},
   "outputs": [],
   "source": [
    "# bins : 구간\n",
    "# 0초과 1이하, 1초과 4이하, 4초과 20이하\n",
    "bins = [-1, 0, 1]\n",
    "# labels 구간별 명칭\n",
    "labels = [0, 4000]\n",
    "# cut 함수 : 카테고리(범주형) 데이터를 만듦 bins => 속성 값 / labels => 범주 이름\n",
    "X_cut = pd.cut(X['충전소'], bins = bins, labels = labels)\n",
    "X['charge_group'] = X_cut\n",
    "X['charge_group'] = X['charge_group'].astype(int)"
   ]
  },
  {
   "cell_type": "code",
   "execution_count": 40,
   "metadata": {},
   "outputs": [
    {
     "data": {
      "text/plain": [
       "0       26422\n",
       "4000     4404\n",
       "Name: charge_group, dtype: int64"
      ]
     },
     "execution_count": 40,
     "metadata": {},
     "output_type": "execute_result"
    }
   ],
   "source": [
    "X['charge_group'].value_counts()"
   ]
  },
  {
   "cell_type": "code",
   "execution_count": 41,
   "metadata": {
    "scrolled": false
   },
   "outputs": [
    {
     "name": "stdout",
     "output_type": "stream",
     "text": [
      "<class 'pandas.core.frame.DataFrame'>\n",
      "RangeIndex: 30826 entries, 0 to 30825\n",
      "Data columns (total 14 columns):\n",
      " #   Column          Non-Null Count  Dtype  \n",
      "---  ------          --------------  -----  \n",
      " 0   범죄자수            30826 non-null  int32  \n",
      " 1   충전소             30826 non-null  int64  \n",
      " 2   지하철             30826 non-null  int64  \n",
      " 3   스타벅스            30826 non-null  float64\n",
      " 4   영화관             30826 non-null  int64  \n",
      " 5   price_group     30826 non-null  int32  \n",
      " 6   arch_group      30826 non-null  int32  \n",
      " 7   area_group      30826 non-null  int32  \n",
      " 8   layer_group     30826 non-null  int32  \n",
      " 9   criminal_group  30826 non-null  int32  \n",
      " 10  star_group      30826 non-null  int32  \n",
      " 11  subway_group    30826 non-null  int32  \n",
      " 12  movie_group     30826 non-null  int32  \n",
      " 13  charge_group    30826 non-null  int32  \n",
      "dtypes: float64(1), int32(10), int64(3)\n",
      "memory usage: 2.1 MB\n"
     ]
    }
   ],
   "source": [
    "X.info()"
   ]
  },
  {
   "cell_type": "markdown",
   "metadata": {},
   "source": [
    "## 맞춤필터도 범위형으로 값 주기"
   ]
  },
  {
   "cell_type": "code",
   "execution_count": 42,
   "metadata": {},
   "outputs": [],
   "source": [
    "X = X.drop(['범죄자수', '충전소', '지하철', '스타벅스', '영화관'], axis = 1)"
   ]
  },
  {
   "cell_type": "markdown",
   "metadata": {},
   "source": [
    "# EDA 탐색적데이터분석"
   ]
  },
  {
   "cell_type": "markdown",
   "metadata": {},
   "source": [
    "# 모델선택 및 하이퍼파라미터 조정"
   ]
  },
  {
   "cell_type": "code",
   "execution_count": 43,
   "metadata": {},
   "outputs": [],
   "source": [
    "from sklearn.linear_model import LinearRegression\n",
    "from sklearn.linear_model import Lasso\n",
    "from sklearn.linear_model import ridge_regression"
   ]
  },
  {
   "cell_type": "markdown",
   "metadata": {},
   "source": [
    "## 특성확장 X"
   ]
  },
  {
   "cell_type": "markdown",
   "metadata": {},
   "source": [
    "## train, test 분리"
   ]
  },
  {
   "cell_type": "code",
   "execution_count": 44,
   "metadata": {},
   "outputs": [],
   "source": [
    "# X_train = X[:23000]\n",
    "# X_test = X[23000:]\n",
    "# y_train = y[:23000]\n",
    "# y_test = y[23000:]"
   ]
  },
  {
   "cell_type": "code",
   "execution_count": 45,
   "metadata": {},
   "outputs": [
    {
     "data": {
      "text/plain": [
       "((30826, 9), (30826, 1))"
      ]
     },
     "execution_count": 45,
     "metadata": {},
     "output_type": "execute_result"
    }
   ],
   "source": [
    "X.shape, y.shape"
   ]
  },
  {
   "cell_type": "code",
   "execution_count": 46,
   "metadata": {
    "scrolled": true
   },
   "outputs": [
    {
     "data": {
      "text/html": [
       "<div>\n",
       "<style scoped>\n",
       "    .dataframe tbody tr th:only-of-type {\n",
       "        vertical-align: middle;\n",
       "    }\n",
       "\n",
       "    .dataframe tbody tr th {\n",
       "        vertical-align: top;\n",
       "    }\n",
       "\n",
       "    .dataframe thead th {\n",
       "        text-align: right;\n",
       "    }\n",
       "</style>\n",
       "<table border=\"1\" class=\"dataframe\">\n",
       "  <thead>\n",
       "    <tr style=\"text-align: right;\">\n",
       "      <th></th>\n",
       "      <th>price_group</th>\n",
       "      <th>arch_group</th>\n",
       "      <th>area_group</th>\n",
       "      <th>layer_group</th>\n",
       "      <th>criminal_group</th>\n",
       "      <th>star_group</th>\n",
       "      <th>subway_group</th>\n",
       "      <th>movie_group</th>\n",
       "      <th>charge_group</th>\n",
       "    </tr>\n",
       "  </thead>\n",
       "  <tbody>\n",
       "    <tr>\n",
       "      <th>0</th>\n",
       "      <td>14000</td>\n",
       "      <td>2500</td>\n",
       "      <td>1000</td>\n",
       "      <td>1</td>\n",
       "      <td>-3000</td>\n",
       "      <td>4000</td>\n",
       "      <td>4000</td>\n",
       "      <td>500</td>\n",
       "      <td>0</td>\n",
       "    </tr>\n",
       "    <tr>\n",
       "      <th>1</th>\n",
       "      <td>31000</td>\n",
       "      <td>2500</td>\n",
       "      <td>2500</td>\n",
       "      <td>500</td>\n",
       "      <td>-3000</td>\n",
       "      <td>4000</td>\n",
       "      <td>4000</td>\n",
       "      <td>500</td>\n",
       "      <td>0</td>\n",
       "    </tr>\n",
       "    <tr>\n",
       "      <th>2</th>\n",
       "      <td>10000</td>\n",
       "      <td>1</td>\n",
       "      <td>1500</td>\n",
       "      <td>1</td>\n",
       "      <td>-3000</td>\n",
       "      <td>4000</td>\n",
       "      <td>4000</td>\n",
       "      <td>500</td>\n",
       "      <td>0</td>\n",
       "    </tr>\n",
       "    <tr>\n",
       "      <th>3</th>\n",
       "      <td>20000</td>\n",
       "      <td>500</td>\n",
       "      <td>2500</td>\n",
       "      <td>1</td>\n",
       "      <td>-3000</td>\n",
       "      <td>4000</td>\n",
       "      <td>4000</td>\n",
       "      <td>500</td>\n",
       "      <td>0</td>\n",
       "    </tr>\n",
       "    <tr>\n",
       "      <th>4</th>\n",
       "      <td>20000</td>\n",
       "      <td>3000</td>\n",
       "      <td>1500</td>\n",
       "      <td>1000</td>\n",
       "      <td>-3000</td>\n",
       "      <td>4000</td>\n",
       "      <td>4000</td>\n",
       "      <td>500</td>\n",
       "      <td>0</td>\n",
       "    </tr>\n",
       "    <tr>\n",
       "      <th>...</th>\n",
       "      <td>...</td>\n",
       "      <td>...</td>\n",
       "      <td>...</td>\n",
       "      <td>...</td>\n",
       "      <td>...</td>\n",
       "      <td>...</td>\n",
       "      <td>...</td>\n",
       "      <td>...</td>\n",
       "      <td>...</td>\n",
       "    </tr>\n",
       "    <tr>\n",
       "      <th>30821</th>\n",
       "      <td>47500</td>\n",
       "      <td>3000</td>\n",
       "      <td>1500</td>\n",
       "      <td>1500</td>\n",
       "      <td>0</td>\n",
       "      <td>4000</td>\n",
       "      <td>-2000</td>\n",
       "      <td>0</td>\n",
       "      <td>0</td>\n",
       "    </tr>\n",
       "    <tr>\n",
       "      <th>30822</th>\n",
       "      <td>65000</td>\n",
       "      <td>3000</td>\n",
       "      <td>2500</td>\n",
       "      <td>2500</td>\n",
       "      <td>0</td>\n",
       "      <td>4000</td>\n",
       "      <td>-2000</td>\n",
       "      <td>0</td>\n",
       "      <td>0</td>\n",
       "    </tr>\n",
       "    <tr>\n",
       "      <th>30823</th>\n",
       "      <td>65000</td>\n",
       "      <td>3000</td>\n",
       "      <td>2500</td>\n",
       "      <td>1500</td>\n",
       "      <td>0</td>\n",
       "      <td>4000</td>\n",
       "      <td>-2000</td>\n",
       "      <td>0</td>\n",
       "      <td>0</td>\n",
       "    </tr>\n",
       "    <tr>\n",
       "      <th>30824</th>\n",
       "      <td>75000</td>\n",
       "      <td>3000</td>\n",
       "      <td>3000</td>\n",
       "      <td>500</td>\n",
       "      <td>0</td>\n",
       "      <td>4000</td>\n",
       "      <td>-2000</td>\n",
       "      <td>0</td>\n",
       "      <td>0</td>\n",
       "    </tr>\n",
       "    <tr>\n",
       "      <th>30825</th>\n",
       "      <td>10000</td>\n",
       "      <td>2500</td>\n",
       "      <td>1</td>\n",
       "      <td>1000</td>\n",
       "      <td>0</td>\n",
       "      <td>0</td>\n",
       "      <td>1000</td>\n",
       "      <td>500</td>\n",
       "      <td>0</td>\n",
       "    </tr>\n",
       "  </tbody>\n",
       "</table>\n",
       "<p>30826 rows × 9 columns</p>\n",
       "</div>"
      ],
      "text/plain": [
       "       price_group  arch_group  area_group  layer_group  criminal_group  \\\n",
       "0            14000        2500        1000            1           -3000   \n",
       "1            31000        2500        2500          500           -3000   \n",
       "2            10000           1        1500            1           -3000   \n",
       "3            20000         500        2500            1           -3000   \n",
       "4            20000        3000        1500         1000           -3000   \n",
       "...            ...         ...         ...          ...             ...   \n",
       "30821        47500        3000        1500         1500               0   \n",
       "30822        65000        3000        2500         2500               0   \n",
       "30823        65000        3000        2500         1500               0   \n",
       "30824        75000        3000        3000          500               0   \n",
       "30825        10000        2500           1         1000               0   \n",
       "\n",
       "       star_group  subway_group  movie_group  charge_group  \n",
       "0            4000          4000          500             0  \n",
       "1            4000          4000          500             0  \n",
       "2            4000          4000          500             0  \n",
       "3            4000          4000          500             0  \n",
       "4            4000          4000          500             0  \n",
       "...           ...           ...          ...           ...  \n",
       "30821        4000         -2000            0             0  \n",
       "30822        4000         -2000            0             0  \n",
       "30823        4000         -2000            0             0  \n",
       "30824        4000         -2000            0             0  \n",
       "30825           0          1000          500             0  \n",
       "\n",
       "[30826 rows x 9 columns]"
      ]
     },
     "execution_count": 46,
     "metadata": {},
     "output_type": "execute_result"
    }
   ],
   "source": [
    "X"
   ]
  },
  {
   "cell_type": "code",
   "execution_count": 47,
   "metadata": {},
   "outputs": [
    {
     "data": {
      "text/plain": [
       "Index(['price_group', 'arch_group', 'area_group', 'layer_group',\n",
       "       'criminal_group', 'star_group', 'subway_group', 'movie_group',\n",
       "       'charge_group'],\n",
       "      dtype='object')"
      ]
     },
     "execution_count": 47,
     "metadata": {},
     "output_type": "execute_result"
    }
   ],
   "source": [
    "X.keys()"
   ]
  },
  {
   "cell_type": "code",
   "execution_count": null,
   "metadata": {},
   "outputs": [],
   "source": []
  },
  {
   "cell_type": "markdown",
   "metadata": {},
   "source": [
    "### LinearRegression"
   ]
  },
  {
   "cell_type": "markdown",
   "metadata": {},
   "source": [
    "linear_model = LinearRegression()\n",
    "linear_model.fit(X_train, y_train)\n",
    "\n",
    "print('train score : ', linear_model.score(X_train, y_train))\n",
    "print('test score : ', linear_model.score(X_test, y_test))\n",
    "\n",
    "y_test = linear_model.predict(X_test).astype(int)\n",
    "y_test = pd.DataFrame(y_test)\n",
    "y_test.to_csv('LinearPrice.csv', index = False)"
   ]
  },
  {
   "cell_type": "markdown",
   "metadata": {},
   "source": [
    "### Lasso"
   ]
  },
  {
   "cell_type": "code",
   "execution_count": 48,
   "metadata": {},
   "outputs": [],
   "source": [
    "# lasso_model = Lasso(alpha=2)\n",
    "# lasso_model.fit(X_train, y_train)\n",
    "\n",
    "# print('train score : ', lasso_model.score(X_train, y_train))\n",
    "# print('test score : ', lasso_model.score(X_test, y_test))\n",
    "\n",
    "# y_test = lasso_model.predict(X_test).astype(int)\n",
    "# y_test = pd.DataFrame({'거래금액': y_test})\n",
    "# y_test.to_csv('LassoPrice2.csv', index = True)"
   ]
  },
  {
   "cell_type": "markdown",
   "metadata": {},
   "source": [
    "## 특성확장"
   ]
  },
  {
   "cell_type": "code",
   "execution_count": 49,
   "metadata": {
    "scrolled": true
   },
   "outputs": [],
   "source": [
    "# 특성 확장\n",
    "extended_X = X.copy()\n",
    "for col1 in X.columns: \n",
    "    for col2 in X.columns: \n",
    "        extended_X[col1+'x'+col2] = X[col1] * X[col2]"
   ]
  },
  {
   "cell_type": "markdown",
   "metadata": {},
   "source": [
    "## train, test 분리"
   ]
  },
  {
   "cell_type": "code",
   "execution_count": 50,
   "metadata": {},
   "outputs": [],
   "source": [
    "# from sklearn.model_selection import train_test_split\n",
    "# X_train, X_test, y_train, y_test = train_test_split(extended_X, y, test_size = 0.3, random_state=25)"
   ]
  },
  {
   "cell_type": "code",
   "execution_count": 51,
   "metadata": {},
   "outputs": [],
   "source": [
    "X_train = extended_X[:23000]\n",
    "X_test = extended_X[23000:]\n",
    "y_train = y[:23000] \n",
    "y_test = y[23000:]"
   ]
  },
  {
   "cell_type": "code",
   "execution_count": 52,
   "metadata": {
    "scrolled": false
   },
   "outputs": [
    {
     "data": {
      "text/plain": [
       "((23000, 90), (7826, 90), (23000, 1), (7826, 1))"
      ]
     },
     "execution_count": 52,
     "metadata": {},
     "output_type": "execute_result"
    }
   ],
   "source": [
    "X_train.shape, X_test.shape, y_train.shape, y_test.shape"
   ]
  },
  {
   "cell_type": "markdown",
   "metadata": {},
   "source": [
    "## Lasso - extend"
   ]
  },
  {
   "cell_type": "code",
   "execution_count": 53,
   "metadata": {
    "scrolled": false
   },
   "outputs": [
    {
     "name": "stdout",
     "output_type": "stream",
     "text": [
      "train score :  0.9896853913993989\n",
      "test score :  0.991399397417974\n"
     ]
    }
   ],
   "source": [
    "lasso_model = Lasso(alpha=2)\n",
    "lasso_model.fit(X_train, y_train)\n",
    "\n",
    "print('train score : ', lasso_model.score(X_train, y_train))\n",
    "print('test score : ', lasso_model.score(X_test, y_test))\n",
    "\n",
    "y_predict = lasso_model.predict(X_test).astype(int)\n",
    "y_test = pd.DataFrame({'거래예상금액': y_predict})\n",
    "y_test.to_csv('ex_LassoPrice.csv', index = True)"
   ]
  },
  {
   "cell_type": "code",
   "execution_count": 54,
   "metadata": {
    "scrolled": true
   },
   "outputs": [
    {
     "name": "stdout",
     "output_type": "stream",
     "text": [
      "<class 'pandas.core.frame.DataFrame'>\n",
      "RangeIndex: 30826 entries, 0 to 30825\n",
      "Data columns (total 9 columns):\n",
      " #   Column          Non-Null Count  Dtype\n",
      "---  ------          --------------  -----\n",
      " 0   price_group     30826 non-null  int32\n",
      " 1   arch_group      30826 non-null  int32\n",
      " 2   area_group      30826 non-null  int32\n",
      " 3   layer_group     30826 non-null  int32\n",
      " 4   criminal_group  30826 non-null  int32\n",
      " 5   star_group      30826 non-null  int32\n",
      " 6   subway_group    30826 non-null  int32\n",
      " 7   movie_group     30826 non-null  int32\n",
      " 8   charge_group    30826 non-null  int32\n",
      "dtypes: int32(9)\n",
      "memory usage: 1.1 MB\n"
     ]
    }
   ],
   "source": [
    "X.info()\n",
    "# 범죄자 수 1764 개 결측\n",
    "# 스타벅스 485 개 결측"
   ]
  },
  {
   "cell_type": "markdown",
   "metadata": {},
   "source": [
    " -----------------------------------------------------------"
   ]
  },
  {
   "cell_type": "markdown",
   "metadata": {},
   "source": [
    "# 컬럼별로 데이터프레임 쪼개기\n",
    "# 컬럼 선택해서 학습, 예측하기"
   ]
  },
  {
   "cell_type": "code",
   "execution_count": 55,
   "metadata": {},
   "outputs": [],
   "source": [
    "# 1\n",
    "price = X.loc[:,'price_group':'price_group']\n",
    "# 2\n",
    "build_year = X.loc[:,'arch_group':'arch_group']\n",
    "# 3\n",
    "apt_size = X.loc[:,'area_group':'area_group']\n",
    "# 4\n",
    "floor = X.loc[:,'layer_group':'layer_group']\n",
    "# 5\n",
    "crime = X.loc[:,'criminal_group':'criminal_group']\n",
    "# 6\n",
    "star = X.loc[:,'star_group':'star_group']\n",
    "# 7\n",
    "subway = X.loc[:,'subway_group':'subway_group']\n",
    "# 8\n",
    "movie = X.loc[:,'movie_group':'movie_group']\n",
    "# 9\n",
    "charge = X.loc[:,'charge_group':'charge_group']"
   ]
  },
  {
   "cell_type": "code",
   "execution_count": 56,
   "metadata": {},
   "outputs": [],
   "source": [
    "# 2 3 4 5 6 7 8 9\n",
    "X = pd.concat([build_year, apt_size, floor, crime, star, subway, movie, charge], axis = 1)"
   ]
  },
  {
   "cell_type": "markdown",
   "metadata": {},
   "source": [
    "## 특성확장"
   ]
  },
  {
   "cell_type": "code",
   "execution_count": 57,
   "metadata": {
    "scrolled": true
   },
   "outputs": [],
   "source": [
    "# 특성 확장\n",
    "extended_X = X.copy()\n",
    "for col1 in X.columns: \n",
    "    for col2 in X.columns: \n",
    "        extended_X[col1+'x'+col2] = X[col1] * X[col2]"
   ]
  },
  {
   "cell_type": "markdown",
   "metadata": {},
   "source": [
    "## train, test 분리"
   ]
  },
  {
   "cell_type": "code",
   "execution_count": 58,
   "metadata": {},
   "outputs": [],
   "source": [
    "# from sklearn.model_selection import train_test_split\n",
    "# X_train, X_test, y_train, y_test = train_test_split(extended_X, y, test_size = 0.3, random_state=25)"
   ]
  },
  {
   "cell_type": "code",
   "execution_count": 59,
   "metadata": {},
   "outputs": [],
   "source": [
    "X_train = extended_X[:23000]\n",
    "X_test = extended_X[23000:]\n",
    "y_train = y[:23000] \n",
    "y_test = y[23000:]"
   ]
  },
  {
   "cell_type": "code",
   "execution_count": 60,
   "metadata": {
    "scrolled": false
   },
   "outputs": [
    {
     "data": {
      "text/plain": [
       "((23000, 72), (7826, 72), (23000, 1), (7826, 1))"
      ]
     },
     "execution_count": 60,
     "metadata": {},
     "output_type": "execute_result"
    }
   ],
   "source": [
    "X_train.shape, X_test.shape, y_train.shape, y_test.shape"
   ]
  },
  {
   "cell_type": "code",
   "execution_count": 61,
   "metadata": {
    "scrolled": false
   },
   "outputs": [
    {
     "data": {
      "text/html": [
       "<div>\n",
       "<style scoped>\n",
       "    .dataframe tbody tr th:only-of-type {\n",
       "        vertical-align: middle;\n",
       "    }\n",
       "\n",
       "    .dataframe tbody tr th {\n",
       "        vertical-align: top;\n",
       "    }\n",
       "\n",
       "    .dataframe thead th {\n",
       "        text-align: right;\n",
       "    }\n",
       "</style>\n",
       "<table border=\"1\" class=\"dataframe\">\n",
       "  <thead>\n",
       "    <tr style=\"text-align: right;\">\n",
       "      <th></th>\n",
       "      <th>arch_group</th>\n",
       "      <th>area_group</th>\n",
       "      <th>layer_group</th>\n",
       "      <th>criminal_group</th>\n",
       "      <th>star_group</th>\n",
       "      <th>subway_group</th>\n",
       "      <th>movie_group</th>\n",
       "      <th>charge_group</th>\n",
       "    </tr>\n",
       "  </thead>\n",
       "  <tbody>\n",
       "    <tr>\n",
       "      <th>0</th>\n",
       "      <td>2500</td>\n",
       "      <td>1000</td>\n",
       "      <td>1</td>\n",
       "      <td>-3000</td>\n",
       "      <td>4000</td>\n",
       "      <td>4000</td>\n",
       "      <td>500</td>\n",
       "      <td>0</td>\n",
       "    </tr>\n",
       "    <tr>\n",
       "      <th>1</th>\n",
       "      <td>2500</td>\n",
       "      <td>2500</td>\n",
       "      <td>500</td>\n",
       "      <td>-3000</td>\n",
       "      <td>4000</td>\n",
       "      <td>4000</td>\n",
       "      <td>500</td>\n",
       "      <td>0</td>\n",
       "    </tr>\n",
       "    <tr>\n",
       "      <th>2</th>\n",
       "      <td>1</td>\n",
       "      <td>1500</td>\n",
       "      <td>1</td>\n",
       "      <td>-3000</td>\n",
       "      <td>4000</td>\n",
       "      <td>4000</td>\n",
       "      <td>500</td>\n",
       "      <td>0</td>\n",
       "    </tr>\n",
       "    <tr>\n",
       "      <th>3</th>\n",
       "      <td>500</td>\n",
       "      <td>2500</td>\n",
       "      <td>1</td>\n",
       "      <td>-3000</td>\n",
       "      <td>4000</td>\n",
       "      <td>4000</td>\n",
       "      <td>500</td>\n",
       "      <td>0</td>\n",
       "    </tr>\n",
       "    <tr>\n",
       "      <th>4</th>\n",
       "      <td>3000</td>\n",
       "      <td>1500</td>\n",
       "      <td>1000</td>\n",
       "      <td>-3000</td>\n",
       "      <td>4000</td>\n",
       "      <td>4000</td>\n",
       "      <td>500</td>\n",
       "      <td>0</td>\n",
       "    </tr>\n",
       "    <tr>\n",
       "      <th>...</th>\n",
       "      <td>...</td>\n",
       "      <td>...</td>\n",
       "      <td>...</td>\n",
       "      <td>...</td>\n",
       "      <td>...</td>\n",
       "      <td>...</td>\n",
       "      <td>...</td>\n",
       "      <td>...</td>\n",
       "    </tr>\n",
       "    <tr>\n",
       "      <th>30821</th>\n",
       "      <td>3000</td>\n",
       "      <td>1500</td>\n",
       "      <td>1500</td>\n",
       "      <td>0</td>\n",
       "      <td>4000</td>\n",
       "      <td>-2000</td>\n",
       "      <td>0</td>\n",
       "      <td>0</td>\n",
       "    </tr>\n",
       "    <tr>\n",
       "      <th>30822</th>\n",
       "      <td>3000</td>\n",
       "      <td>2500</td>\n",
       "      <td>2500</td>\n",
       "      <td>0</td>\n",
       "      <td>4000</td>\n",
       "      <td>-2000</td>\n",
       "      <td>0</td>\n",
       "      <td>0</td>\n",
       "    </tr>\n",
       "    <tr>\n",
       "      <th>30823</th>\n",
       "      <td>3000</td>\n",
       "      <td>2500</td>\n",
       "      <td>1500</td>\n",
       "      <td>0</td>\n",
       "      <td>4000</td>\n",
       "      <td>-2000</td>\n",
       "      <td>0</td>\n",
       "      <td>0</td>\n",
       "    </tr>\n",
       "    <tr>\n",
       "      <th>30824</th>\n",
       "      <td>3000</td>\n",
       "      <td>3000</td>\n",
       "      <td>500</td>\n",
       "      <td>0</td>\n",
       "      <td>4000</td>\n",
       "      <td>-2000</td>\n",
       "      <td>0</td>\n",
       "      <td>0</td>\n",
       "    </tr>\n",
       "    <tr>\n",
       "      <th>30825</th>\n",
       "      <td>2500</td>\n",
       "      <td>1</td>\n",
       "      <td>1000</td>\n",
       "      <td>0</td>\n",
       "      <td>0</td>\n",
       "      <td>1000</td>\n",
       "      <td>500</td>\n",
       "      <td>0</td>\n",
       "    </tr>\n",
       "  </tbody>\n",
       "</table>\n",
       "<p>30826 rows × 8 columns</p>\n",
       "</div>"
      ],
      "text/plain": [
       "       arch_group  area_group  layer_group  criminal_group  star_group  \\\n",
       "0            2500        1000            1           -3000        4000   \n",
       "1            2500        2500          500           -3000        4000   \n",
       "2               1        1500            1           -3000        4000   \n",
       "3             500        2500            1           -3000        4000   \n",
       "4            3000        1500         1000           -3000        4000   \n",
       "...           ...         ...          ...             ...         ...   \n",
       "30821        3000        1500         1500               0        4000   \n",
       "30822        3000        2500         2500               0        4000   \n",
       "30823        3000        2500         1500               0        4000   \n",
       "30824        3000        3000          500               0        4000   \n",
       "30825        2500           1         1000               0           0   \n",
       "\n",
       "       subway_group  movie_group  charge_group  \n",
       "0              4000          500             0  \n",
       "1              4000          500             0  \n",
       "2              4000          500             0  \n",
       "3              4000          500             0  \n",
       "4              4000          500             0  \n",
       "...             ...          ...           ...  \n",
       "30821         -2000            0             0  \n",
       "30822         -2000            0             0  \n",
       "30823         -2000            0             0  \n",
       "30824         -2000            0             0  \n",
       "30825          1000          500             0  \n",
       "\n",
       "[30826 rows x 8 columns]"
      ]
     },
     "execution_count": 61,
     "metadata": {},
     "output_type": "execute_result"
    }
   ],
   "source": [
    "X"
   ]
  },
  {
   "cell_type": "code",
   "execution_count": 62,
   "metadata": {},
   "outputs": [
    {
     "name": "stdout",
     "output_type": "stream",
     "text": [
      "train score :  0.7631660388950987\n",
      "test score :  0.7236449350802677\n"
     ]
    }
   ],
   "source": [
    "lasso_model = Lasso(alpha=2)\n",
    "lasso_model.fit(X_train, y_train)\n",
    "\n",
    "print('train score : ', lasso_model.score(X_train, y_train))\n",
    "print('test score : ', lasso_model.score(X_test, y_test))\n",
    "\n",
    "y_predict = lasso_model.predict(X_test).astype(int)\n",
    "y_test = pd.DataFrame({'거래예상금액': y_predict})\n",
    "y_test.to_csv('23456789Price.csv', index = True)"
   ]
  },
  {
   "cell_type": "code",
   "execution_count": null,
   "metadata": {},
   "outputs": [],
   "source": []
  }
 ],
 "metadata": {
  "kernelspec": {
   "display_name": "Python 3",
   "language": "python",
   "name": "python3"
  },
  "language_info": {
   "codemirror_mode": {
    "name": "ipython",
    "version": 3
   },
   "file_extension": ".py",
   "mimetype": "text/x-python",
   "name": "python",
   "nbconvert_exporter": "python",
   "pygments_lexer": "ipython3",
   "version": "3.8.5"
  },
  "toc": {
   "base_numbering": 1,
   "nav_menu": {},
   "number_sections": true,
   "sideBar": true,
   "skip_h1_title": false,
   "title_cell": "Table of Contents",
   "title_sidebar": "Contents",
   "toc_cell": false,
   "toc_position": {},
   "toc_section_display": true,
   "toc_window_display": false
  }
 },
 "nbformat": 4,
 "nbformat_minor": 4
}
