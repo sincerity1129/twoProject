{
 "cells": [
  {
   "cell_type": "code",
   "execution_count": 85,
   "metadata": {},
   "outputs": [],
   "source": [
    "import numpy as np\n",
    "import pandas as pd\n",
    "import matplotlib.pyplot as pit\n",
    "import seaborn as sns # 시각화 라이브러리\n",
    "import warnings # 경고창 없애기\n",
    "import matplotlib.pyplot as pit\n",
    "import matplotlib.pyplot as pit\n",
    "import seaborn as sns\n",
    "warnings.filterwarnings('ignore')"
   ]
  },
  {
   "cell_type": "code",
   "execution_count": 86,
   "metadata": {},
   "outputs": [],
   "source": [
    "train = pd.read_excel('./apt_list.xlsx')"
   ]
  },
  {
   "cell_type": "code",
   "execution_count": 87,
   "metadata": {},
   "outputs": [
    {
     "data": {
      "text/plain": [
       "Index(['거래금액', '건축년도', '년', '도로명', '도로명건물본번호코드', '도로명건물부번호코드', '도로명시군구코드',\n",
       "       '도로명일련번호코드', '도로명지상지하코드', '도로명코드', '법정동', '법정동본번코드', '법정동부번코드',\n",
       "       '법정동시군구코드', '법정동읍면동코드', '법정동지번코드', '아파트', '월', '일', '일련번호', '전용면적',\n",
       "       '지번', '지역코드', '층', '해제사유발생일', '해제여부'],\n",
       "      dtype='object')"
      ]
     },
     "execution_count": 87,
     "metadata": {},
     "output_type": "execute_result"
    }
   ],
   "source": [
    "train.keys()"
   ]
  },
  {
   "cell_type": "code",
   "execution_count": 88,
   "metadata": {},
   "outputs": [
    {
     "name": "stdout",
     "output_type": "stream",
     "text": [
      "<class 'pandas.core.frame.DataFrame'>\n",
      "RangeIndex: 990 entries, 0 to 989\n",
      "Data columns (total 26 columns):\n",
      " #   Column      Non-Null Count  Dtype  \n",
      "---  ------      --------------  -----  \n",
      " 0   거래금액        990 non-null    object \n",
      " 1   건축년도        990 non-null    int64  \n",
      " 2   년           990 non-null    int64  \n",
      " 3   도로명         990 non-null    object \n",
      " 4   도로명건물본번호코드  990 non-null    int64  \n",
      " 5   도로명건물부번호코드  990 non-null    int64  \n",
      " 6   도로명시군구코드    990 non-null    int64  \n",
      " 7   도로명일련번호코드   990 non-null    int64  \n",
      " 8   도로명지상지하코드   990 non-null    int64  \n",
      " 9   도로명코드       990 non-null    int64  \n",
      " 10  법정동         990 non-null    object \n",
      " 11  법정동본번코드     990 non-null    int64  \n",
      " 12  법정동부번코드     990 non-null    int64  \n",
      " 13  법정동시군구코드    990 non-null    int64  \n",
      " 14  법정동읍면동코드    990 non-null    int64  \n",
      " 15  법정동지번코드     990 non-null    int64  \n",
      " 16  아파트         990 non-null    object \n",
      " 17  월           990 non-null    int64  \n",
      " 18  일           990 non-null    int64  \n",
      " 19  일련번호        792 non-null    object \n",
      " 20  전용면적        990 non-null    float64\n",
      " 21  지번          990 non-null    object \n",
      " 22  지역코드        990 non-null    int64  \n",
      " 23  층           990 non-null    int64  \n",
      " 24  해제사유발생일     0 non-null      float64\n",
      " 25  해제여부        0 non-null      float64\n",
      "dtypes: float64(3), int64(17), object(6)\n",
      "memory usage: 201.2+ KB\n"
     ]
    }
   ],
   "source": [
    "train.info()"
   ]
  },
  {
   "cell_type": "code",
   "execution_count": 89,
   "metadata": {},
   "outputs": [],
   "source": [
    "train = train.drop([\"도로명건물본번호코드\",\"아파트\", \"법정동\",\"월\",\"년\",\"일\",\"지번\",\"지역코드\", \"도로명\", \"도로명건물부번호코드\", \"도로명시군구코드\", \"도로명일련번호코드\", \"도로명지상지하코드\", \"도로명코드\", \"법정동본번코드\", \"법정동부번코드\", \"법정동시군구코드\", \"법정동읍면동코드\", \"법정동지번코드\", \"일련번호\", \"해제사유발생일\", \"해제여부\"], axis =1,)"
   ]
  },
  {
   "cell_type": "code",
   "execution_count": 90,
   "metadata": {},
   "outputs": [
    {
     "data": {
      "text/html": [
       "<div>\n",
       "<style scoped>\n",
       "    .dataframe tbody tr th:only-of-type {\n",
       "        vertical-align: middle;\n",
       "    }\n",
       "\n",
       "    .dataframe tbody tr th {\n",
       "        vertical-align: top;\n",
       "    }\n",
       "\n",
       "    .dataframe thead th {\n",
       "        text-align: right;\n",
       "    }\n",
       "</style>\n",
       "<table border=\"1\" class=\"dataframe\">\n",
       "  <thead>\n",
       "    <tr style=\"text-align: right;\">\n",
       "      <th></th>\n",
       "      <th>거래금액</th>\n",
       "      <th>건축년도</th>\n",
       "      <th>전용면적</th>\n",
       "      <th>층</th>\n",
       "    </tr>\n",
       "  </thead>\n",
       "  <tbody>\n",
       "    <tr>\n",
       "      <th>0</th>\n",
       "      <td>8,650</td>\n",
       "      <td>2011</td>\n",
       "      <td>29.8170</td>\n",
       "      <td>7</td>\n",
       "    </tr>\n",
       "    <tr>\n",
       "      <th>1</th>\n",
       "      <td>36,400</td>\n",
       "      <td>2007</td>\n",
       "      <td>84.8686</td>\n",
       "      <td>11</td>\n",
       "    </tr>\n",
       "    <tr>\n",
       "      <th>2</th>\n",
       "      <td>36,440</td>\n",
       "      <td>2020</td>\n",
       "      <td>59.9048</td>\n",
       "      <td>11</td>\n",
       "    </tr>\n",
       "    <tr>\n",
       "      <th>3</th>\n",
       "      <td>14,900</td>\n",
       "      <td>2016</td>\n",
       "      <td>49.9310</td>\n",
       "      <td>5</td>\n",
       "    </tr>\n",
       "    <tr>\n",
       "      <th>4</th>\n",
       "      <td>59,000</td>\n",
       "      <td>2020</td>\n",
       "      <td>84.9490</td>\n",
       "      <td>12</td>\n",
       "    </tr>\n",
       "    <tr>\n",
       "      <th>...</th>\n",
       "      <td>...</td>\n",
       "      <td>...</td>\n",
       "      <td>...</td>\n",
       "      <td>...</td>\n",
       "    </tr>\n",
       "    <tr>\n",
       "      <th>985</th>\n",
       "      <td>37,450</td>\n",
       "      <td>2007</td>\n",
       "      <td>84.8686</td>\n",
       "      <td>11</td>\n",
       "    </tr>\n",
       "    <tr>\n",
       "      <th>986</th>\n",
       "      <td>38,200</td>\n",
       "      <td>2007</td>\n",
       "      <td>84.8686</td>\n",
       "      <td>17</td>\n",
       "    </tr>\n",
       "    <tr>\n",
       "      <th>987</th>\n",
       "      <td>35,300</td>\n",
       "      <td>2007</td>\n",
       "      <td>84.8686</td>\n",
       "      <td>8</td>\n",
       "    </tr>\n",
       "    <tr>\n",
       "      <th>988</th>\n",
       "      <td>35,450</td>\n",
       "      <td>1996</td>\n",
       "      <td>84.9300</td>\n",
       "      <td>3</td>\n",
       "    </tr>\n",
       "    <tr>\n",
       "      <th>989</th>\n",
       "      <td>53,000</td>\n",
       "      <td>2007</td>\n",
       "      <td>113.8106</td>\n",
       "      <td>14</td>\n",
       "    </tr>\n",
       "  </tbody>\n",
       "</table>\n",
       "<p>990 rows × 4 columns</p>\n",
       "</div>"
      ],
      "text/plain": [
       "       거래금액  건축년도      전용면적   층\n",
       "0     8,650  2011   29.8170   7\n",
       "1    36,400  2007   84.8686  11\n",
       "2    36,440  2020   59.9048  11\n",
       "3    14,900  2016   49.9310   5\n",
       "4    59,000  2020   84.9490  12\n",
       "..      ...   ...       ...  ..\n",
       "985  37,450  2007   84.8686  11\n",
       "986  38,200  2007   84.8686  17\n",
       "987  35,300  2007   84.8686   8\n",
       "988  35,450  1996   84.9300   3\n",
       "989  53,000  2007  113.8106  14\n",
       "\n",
       "[990 rows x 4 columns]"
      ]
     },
     "execution_count": 90,
     "metadata": {},
     "output_type": "execute_result"
    }
   ],
   "source": [
    "train"
   ]
  },
  {
   "cell_type": "code",
   "execution_count": 91,
   "metadata": {},
   "outputs": [],
   "source": [
    "train['거래금액'] = train['거래금액'].str.replace(\",\", \"\")"
   ]
  },
  {
   "cell_type": "code",
   "execution_count": 92,
   "metadata": {},
   "outputs": [],
   "source": [
    "X_train = train[:750] # 1~750\n",
    "X_test = train[750:] # 751 ~990\n",
    "y_train = train[[\"거래금액\"]][:750] # 1~ 750\n",
    "y_test = train[[\"거래금액\"]][750:] # 751 ~990"
   ]
  },
  {
   "cell_type": "code",
   "execution_count": 93,
   "metadata": {},
   "outputs": [],
   "source": [
    "y_test['거래금액'] = y_test['거래금액'].str.replace(\",\", \"\")"
   ]
  },
  {
   "cell_type": "code",
   "execution_count": 94,
   "metadata": {},
   "outputs": [
    {
     "data": {
      "text/html": [
       "<div>\n",
       "<style scoped>\n",
       "    .dataframe tbody tr th:only-of-type {\n",
       "        vertical-align: middle;\n",
       "    }\n",
       "\n",
       "    .dataframe tbody tr th {\n",
       "        vertical-align: top;\n",
       "    }\n",
       "\n",
       "    .dataframe thead th {\n",
       "        text-align: right;\n",
       "    }\n",
       "</style>\n",
       "<table border=\"1\" class=\"dataframe\">\n",
       "  <thead>\n",
       "    <tr style=\"text-align: right;\">\n",
       "      <th></th>\n",
       "      <th>거래금액</th>\n",
       "      <th>건축년도</th>\n",
       "      <th>전용면적</th>\n",
       "      <th>층</th>\n",
       "    </tr>\n",
       "  </thead>\n",
       "  <tbody>\n",
       "    <tr>\n",
       "      <th>0</th>\n",
       "      <td>8650</td>\n",
       "      <td>2011</td>\n",
       "      <td>29.8170</td>\n",
       "      <td>7</td>\n",
       "    </tr>\n",
       "    <tr>\n",
       "      <th>1</th>\n",
       "      <td>36400</td>\n",
       "      <td>2007</td>\n",
       "      <td>84.8686</td>\n",
       "      <td>11</td>\n",
       "    </tr>\n",
       "    <tr>\n",
       "      <th>2</th>\n",
       "      <td>36440</td>\n",
       "      <td>2020</td>\n",
       "      <td>59.9048</td>\n",
       "      <td>11</td>\n",
       "    </tr>\n",
       "    <tr>\n",
       "      <th>3</th>\n",
       "      <td>14900</td>\n",
       "      <td>2016</td>\n",
       "      <td>49.9310</td>\n",
       "      <td>5</td>\n",
       "    </tr>\n",
       "    <tr>\n",
       "      <th>4</th>\n",
       "      <td>59000</td>\n",
       "      <td>2020</td>\n",
       "      <td>84.9490</td>\n",
       "      <td>12</td>\n",
       "    </tr>\n",
       "    <tr>\n",
       "      <th>...</th>\n",
       "      <td>...</td>\n",
       "      <td>...</td>\n",
       "      <td>...</td>\n",
       "      <td>...</td>\n",
       "    </tr>\n",
       "    <tr>\n",
       "      <th>745</th>\n",
       "      <td>37450</td>\n",
       "      <td>2007</td>\n",
       "      <td>84.8686</td>\n",
       "      <td>11</td>\n",
       "    </tr>\n",
       "    <tr>\n",
       "      <th>746</th>\n",
       "      <td>38200</td>\n",
       "      <td>2007</td>\n",
       "      <td>84.8686</td>\n",
       "      <td>17</td>\n",
       "    </tr>\n",
       "    <tr>\n",
       "      <th>747</th>\n",
       "      <td>35300</td>\n",
       "      <td>2007</td>\n",
       "      <td>84.8686</td>\n",
       "      <td>8</td>\n",
       "    </tr>\n",
       "    <tr>\n",
       "      <th>748</th>\n",
       "      <td>35450</td>\n",
       "      <td>1996</td>\n",
       "      <td>84.9300</td>\n",
       "      <td>3</td>\n",
       "    </tr>\n",
       "    <tr>\n",
       "      <th>749</th>\n",
       "      <td>53000</td>\n",
       "      <td>2007</td>\n",
       "      <td>113.8106</td>\n",
       "      <td>14</td>\n",
       "    </tr>\n",
       "  </tbody>\n",
       "</table>\n",
       "<p>750 rows × 4 columns</p>\n",
       "</div>"
      ],
      "text/plain": [
       "      거래금액  건축년도      전용면적   층\n",
       "0     8650  2011   29.8170   7\n",
       "1    36400  2007   84.8686  11\n",
       "2    36440  2020   59.9048  11\n",
       "3    14900  2016   49.9310   5\n",
       "4    59000  2020   84.9490  12\n",
       "..     ...   ...       ...  ..\n",
       "745  37450  2007   84.8686  11\n",
       "746  38200  2007   84.8686  17\n",
       "747  35300  2007   84.8686   8\n",
       "748  35450  1996   84.9300   3\n",
       "749  53000  2007  113.8106  14\n",
       "\n",
       "[750 rows x 4 columns]"
      ]
     },
     "execution_count": 94,
     "metadata": {},
     "output_type": "execute_result"
    }
   ],
   "source": [
    "X_train"
   ]
  },
  {
   "cell_type": "code",
   "execution_count": 95,
   "metadata": {
    "collapsed": true
   },
   "outputs": [
    {
     "data": {
      "text/html": [
       "<div>\n",
       "<style scoped>\n",
       "    .dataframe tbody tr th:only-of-type {\n",
       "        vertical-align: middle;\n",
       "    }\n",
       "\n",
       "    .dataframe tbody tr th {\n",
       "        vertical-align: top;\n",
       "    }\n",
       "\n",
       "    .dataframe thead th {\n",
       "        text-align: right;\n",
       "    }\n",
       "</style>\n",
       "<table border=\"1\" class=\"dataframe\">\n",
       "  <thead>\n",
       "    <tr style=\"text-align: right;\">\n",
       "      <th></th>\n",
       "      <th>거래금액</th>\n",
       "    </tr>\n",
       "  </thead>\n",
       "  <tbody>\n",
       "    <tr>\n",
       "      <th>750</th>\n",
       "      <td>8650</td>\n",
       "    </tr>\n",
       "    <tr>\n",
       "      <th>751</th>\n",
       "      <td>36400</td>\n",
       "    </tr>\n",
       "    <tr>\n",
       "      <th>752</th>\n",
       "      <td>36440</td>\n",
       "    </tr>\n",
       "    <tr>\n",
       "      <th>753</th>\n",
       "      <td>14900</td>\n",
       "    </tr>\n",
       "    <tr>\n",
       "      <th>754</th>\n",
       "      <td>59000</td>\n",
       "    </tr>\n",
       "    <tr>\n",
       "      <th>...</th>\n",
       "      <td>...</td>\n",
       "    </tr>\n",
       "    <tr>\n",
       "      <th>985</th>\n",
       "      <td>37450</td>\n",
       "    </tr>\n",
       "    <tr>\n",
       "      <th>986</th>\n",
       "      <td>38200</td>\n",
       "    </tr>\n",
       "    <tr>\n",
       "      <th>987</th>\n",
       "      <td>35300</td>\n",
       "    </tr>\n",
       "    <tr>\n",
       "      <th>988</th>\n",
       "      <td>35450</td>\n",
       "    </tr>\n",
       "    <tr>\n",
       "      <th>989</th>\n",
       "      <td>53000</td>\n",
       "    </tr>\n",
       "  </tbody>\n",
       "</table>\n",
       "<p>240 rows × 1 columns</p>\n",
       "</div>"
      ],
      "text/plain": [
       "      거래금액\n",
       "750   8650\n",
       "751  36400\n",
       "752  36440\n",
       "753  14900\n",
       "754  59000\n",
       "..     ...\n",
       "985  37450\n",
       "986  38200\n",
       "987  35300\n",
       "988  35450\n",
       "989  53000\n",
       "\n",
       "[240 rows x 1 columns]"
      ]
     },
     "execution_count": 95,
     "metadata": {},
     "output_type": "execute_result"
    }
   ],
   "source": [
    "y_test"
   ]
  },
  {
   "cell_type": "code",
   "execution_count": 96,
   "metadata": {
    "collapsed": true
   },
   "outputs": [
    {
     "data": {
      "text/html": [
       "<div>\n",
       "<style scoped>\n",
       "    .dataframe tbody tr th:only-of-type {\n",
       "        vertical-align: middle;\n",
       "    }\n",
       "\n",
       "    .dataframe tbody tr th {\n",
       "        vertical-align: top;\n",
       "    }\n",
       "\n",
       "    .dataframe thead th {\n",
       "        text-align: right;\n",
       "    }\n",
       "</style>\n",
       "<table border=\"1\" class=\"dataframe\">\n",
       "  <thead>\n",
       "    <tr style=\"text-align: right;\">\n",
       "      <th></th>\n",
       "      <th>거래금액</th>\n",
       "    </tr>\n",
       "  </thead>\n",
       "  <tbody>\n",
       "    <tr>\n",
       "      <th>0</th>\n",
       "      <td>8650</td>\n",
       "    </tr>\n",
       "    <tr>\n",
       "      <th>1</th>\n",
       "      <td>36400</td>\n",
       "    </tr>\n",
       "    <tr>\n",
       "      <th>2</th>\n",
       "      <td>36440</td>\n",
       "    </tr>\n",
       "    <tr>\n",
       "      <th>3</th>\n",
       "      <td>14900</td>\n",
       "    </tr>\n",
       "    <tr>\n",
       "      <th>4</th>\n",
       "      <td>59000</td>\n",
       "    </tr>\n",
       "    <tr>\n",
       "      <th>...</th>\n",
       "      <td>...</td>\n",
       "    </tr>\n",
       "    <tr>\n",
       "      <th>745</th>\n",
       "      <td>37450</td>\n",
       "    </tr>\n",
       "    <tr>\n",
       "      <th>746</th>\n",
       "      <td>38200</td>\n",
       "    </tr>\n",
       "    <tr>\n",
       "      <th>747</th>\n",
       "      <td>35300</td>\n",
       "    </tr>\n",
       "    <tr>\n",
       "      <th>748</th>\n",
       "      <td>35450</td>\n",
       "    </tr>\n",
       "    <tr>\n",
       "      <th>749</th>\n",
       "      <td>53000</td>\n",
       "    </tr>\n",
       "  </tbody>\n",
       "</table>\n",
       "<p>750 rows × 1 columns</p>\n",
       "</div>"
      ],
      "text/plain": [
       "      거래금액\n",
       "0     8650\n",
       "1    36400\n",
       "2    36440\n",
       "3    14900\n",
       "4    59000\n",
       "..     ...\n",
       "745  37450\n",
       "746  38200\n",
       "747  35300\n",
       "748  35450\n",
       "749  53000\n",
       "\n",
       "[750 rows x 1 columns]"
      ]
     },
     "execution_count": 96,
     "metadata": {},
     "output_type": "execute_result"
    }
   ],
   "source": [
    "y_train"
   ]
  },
  {
   "cell_type": "code",
   "execution_count": 97,
   "metadata": {
    "collapsed": true
   },
   "outputs": [
    {
     "data": {
      "text/html": [
       "<div>\n",
       "<style scoped>\n",
       "    .dataframe tbody tr th:only-of-type {\n",
       "        vertical-align: middle;\n",
       "    }\n",
       "\n",
       "    .dataframe tbody tr th {\n",
       "        vertical-align: top;\n",
       "    }\n",
       "\n",
       "    .dataframe thead th {\n",
       "        text-align: right;\n",
       "    }\n",
       "</style>\n",
       "<table border=\"1\" class=\"dataframe\">\n",
       "  <thead>\n",
       "    <tr style=\"text-align: right;\">\n",
       "      <th></th>\n",
       "      <th>거래금액</th>\n",
       "    </tr>\n",
       "  </thead>\n",
       "  <tbody>\n",
       "    <tr>\n",
       "      <th>750</th>\n",
       "      <td>8650</td>\n",
       "    </tr>\n",
       "    <tr>\n",
       "      <th>751</th>\n",
       "      <td>36400</td>\n",
       "    </tr>\n",
       "    <tr>\n",
       "      <th>752</th>\n",
       "      <td>36440</td>\n",
       "    </tr>\n",
       "    <tr>\n",
       "      <th>753</th>\n",
       "      <td>14900</td>\n",
       "    </tr>\n",
       "    <tr>\n",
       "      <th>754</th>\n",
       "      <td>59000</td>\n",
       "    </tr>\n",
       "    <tr>\n",
       "      <th>...</th>\n",
       "      <td>...</td>\n",
       "    </tr>\n",
       "    <tr>\n",
       "      <th>985</th>\n",
       "      <td>37450</td>\n",
       "    </tr>\n",
       "    <tr>\n",
       "      <th>986</th>\n",
       "      <td>38200</td>\n",
       "    </tr>\n",
       "    <tr>\n",
       "      <th>987</th>\n",
       "      <td>35300</td>\n",
       "    </tr>\n",
       "    <tr>\n",
       "      <th>988</th>\n",
       "      <td>35450</td>\n",
       "    </tr>\n",
       "    <tr>\n",
       "      <th>989</th>\n",
       "      <td>53000</td>\n",
       "    </tr>\n",
       "  </tbody>\n",
       "</table>\n",
       "<p>240 rows × 1 columns</p>\n",
       "</div>"
      ],
      "text/plain": [
       "      거래금액\n",
       "750   8650\n",
       "751  36400\n",
       "752  36440\n",
       "753  14900\n",
       "754  59000\n",
       "..     ...\n",
       "985  37450\n",
       "986  38200\n",
       "987  35300\n",
       "988  35450\n",
       "989  53000\n",
       "\n",
       "[240 rows x 1 columns]"
      ]
     },
     "execution_count": 97,
     "metadata": {},
     "output_type": "execute_result"
    }
   ],
   "source": [
    "y_test"
   ]
  },
  {
   "cell_type": "markdown",
   "metadata": {},
   "source": [
    "#  데이터 전처리"
   ]
  },
  {
   "cell_type": "markdown",
   "metadata": {},
   "source": [
    "## 전용면적"
   ]
  },
  {
   "cell_type": "code",
   "execution_count": 98,
   "metadata": {},
   "outputs": [
    {
     "data": {
      "text/plain": [
       "count    750.000000\n",
       "mean      76.281680\n",
       "std       22.319152\n",
       "min       29.817000\n",
       "25%       59.904800\n",
       "50%       84.868600\n",
       "75%       84.930000\n",
       "max      113.810600\n",
       "Name: 전용면적, dtype: float64"
      ]
     },
     "execution_count": 98,
     "metadata": {},
     "output_type": "execute_result"
    }
   ],
   "source": [
    "X_train['전용면적'].describe()"
   ]
  },
  {
   "cell_type": "code",
   "execution_count": 99,
   "metadata": {},
   "outputs": [],
   "source": [
    "# bins : 구간\n",
    "# 0초과 1이하, 1초과 4이하, 4초과 20이하\n",
    "bins = [21, 30, 60, 85,114]\n",
    "# labels 구간별 명칭\n",
    "labels = [1000,2000,3000,4000]\n",
    "# cut 함수 : 카테고리(범주형) 데이터를 만듦 bins => 속성 값 / labels => 범주 이름\n",
    "X_train_cut = pd.cut(train['전용면적'], bins = bins, labels = labels)\n",
    "X_train['area_group'] = X_train_cut\n",
    "X_test_cut = pd.cut(X_test['전용면적'], bins = bins, labels = labels)\n",
    "X_test['area_group'] = X_test_cut"
   ]
  },
  {
   "cell_type": "code",
   "execution_count": 100,
   "metadata": {},
   "outputs": [
    {
     "data": {
      "text/plain": [
       "3000    450\n",
       "2000    150\n",
       "4000     75\n",
       "1000     75\n",
       "Name: area_group, dtype: int64"
      ]
     },
     "execution_count": 100,
     "metadata": {},
     "output_type": "execute_result"
    }
   ],
   "source": [
    "X_train[\"area_group\"].value_counts()"
   ]
  },
  {
   "cell_type": "code",
   "execution_count": 101,
   "metadata": {},
   "outputs": [
    {
     "data": {
      "text/plain": [
       "3000    144\n",
       "2000     48\n",
       "4000     24\n",
       "1000     24\n",
       "Name: area_group, dtype: int64"
      ]
     },
     "execution_count": 101,
     "metadata": {},
     "output_type": "execute_result"
    }
   ],
   "source": [
    "X_test[\"area_group\"].value_counts()"
   ]
  },
  {
   "cell_type": "markdown",
   "metadata": {},
   "source": [
    "## 건축년도"
   ]
  },
  {
   "cell_type": "code",
   "execution_count": 102,
   "metadata": {},
   "outputs": [
    {
     "data": {
      "text/plain": [
       "count     750.000000\n",
       "mean     2009.800000\n",
       "std         6.915473\n",
       "min      1996.000000\n",
       "25%      2007.000000\n",
       "50%      2007.000000\n",
       "75%      2016.000000\n",
       "max      2020.000000\n",
       "Name: 건축년도, dtype: float64"
      ]
     },
     "execution_count": 102,
     "metadata": {},
     "output_type": "execute_result"
    }
   ],
   "source": [
    "X_train['건축년도'].describe()"
   ]
  },
  {
   "cell_type": "code",
   "execution_count": 103,
   "metadata": {},
   "outputs": [],
   "source": [
    "# bins : 구간\n",
    "# 0초과 1이하, 1초과 4이하, 4초과 20이하\n",
    "bins = [1995, 2000, 2005, 2010, 2015, 2021]\n",
    "# labels 구간별 명칭\n",
    "labels = [1000,2000, 2500, 3000, 5000]\n",
    "# cut 함수 : 카테고리(범주형) 데이터를 만듦 bins => 속성 값 / labels => 범주 이름\n",
    "X_train_cut = pd.cut(train['건축년도'], bins = bins, labels = labels)\n",
    "X_train['arch_group'] = X_train_cut\n",
    "X_test_cut = pd.cut(X_test['건축년도'], bins = bins, labels = labels)\n",
    "X_test['arch_group'] = X_test_cut"
   ]
  },
  {
   "cell_type": "code",
   "execution_count": 104,
   "metadata": {},
   "outputs": [
    {
     "data": {
      "text/plain": [
       "2500    375\n",
       "5000    225\n",
       "3000     75\n",
       "1000     75\n",
       "2000      0\n",
       "Name: arch_group, dtype: int64"
      ]
     },
     "execution_count": 104,
     "metadata": {},
     "output_type": "execute_result"
    }
   ],
   "source": [
    "X_train['arch_group'].value_counts()"
   ]
  },
  {
   "cell_type": "code",
   "execution_count": 105,
   "metadata": {},
   "outputs": [
    {
     "data": {
      "text/plain": [
       "2500    120\n",
       "5000     72\n",
       "3000     24\n",
       "1000     24\n",
       "2000      0\n",
       "Name: arch_group, dtype: int64"
      ]
     },
     "execution_count": 105,
     "metadata": {},
     "output_type": "execute_result"
    }
   ],
   "source": [
    "X_test['arch_group'].value_counts()"
   ]
  },
  {
   "cell_type": "markdown",
   "metadata": {},
   "source": [
    "## 층"
   ]
  },
  {
   "cell_type": "code",
   "execution_count": 106,
   "metadata": {},
   "outputs": [
    {
     "data": {
      "text/plain": [
       "count    750.000000\n",
       "mean       9.900000\n",
       "std        3.988886\n",
       "min        3.000000\n",
       "25%        7.000000\n",
       "50%       11.000000\n",
       "75%       12.000000\n",
       "max       17.000000\n",
       "Name: 층, dtype: float64"
      ]
     },
     "execution_count": 106,
     "metadata": {},
     "output_type": "execute_result"
    }
   ],
   "source": [
    "X_train['층'].describe()"
   ]
  },
  {
   "cell_type": "code",
   "execution_count": 107,
   "metadata": {},
   "outputs": [],
   "source": [
    "# bins : 구간\n",
    "# 0초과 1이하, 1초과 4이하, 4초과 20이하\n",
    "bins = [0, 5, 10, 15, 20, 50]\n",
    "# labels 구간별 명칭\n",
    "labels = [1000, 1500, 2000, 4000, 7000]\n",
    "# cut 함수 : 카테고리(범주형) 데이터를 만듦 bins => 속성 값 / labels => 범주 이름\n",
    "X_train_cut = pd.cut(train['층'], bins = bins, labels = labels)\n",
    "X_train['layer_group'] = X_train_cut\n",
    "X_test_cut = pd.cut(X_test['층'], bins = bins, labels = labels)\n",
    "X_test['layer_group'] = X_test_cut"
   ]
  },
  {
   "cell_type": "code",
   "execution_count": 108,
   "metadata": {},
   "outputs": [
    {
     "data": {
      "text/plain": [
       "2000    375\n",
       "1500    150\n",
       "1000    150\n",
       "4000     75\n",
       "7000      0\n",
       "Name: layer_group, dtype: int64"
      ]
     },
     "execution_count": 108,
     "metadata": {},
     "output_type": "execute_result"
    }
   ],
   "source": [
    "X_train['layer_group'].value_counts()"
   ]
  },
  {
   "cell_type": "code",
   "execution_count": 109,
   "metadata": {},
   "outputs": [
    {
     "data": {
      "text/plain": [
       "2000    120\n",
       "1500     48\n",
       "1000     48\n",
       "4000     24\n",
       "7000      0\n",
       "Name: layer_group, dtype: int64"
      ]
     },
     "execution_count": 109,
     "metadata": {},
     "output_type": "execute_result"
    }
   ],
   "source": [
    "X_test['layer_group'].value_counts()"
   ]
  },
  {
   "cell_type": "markdown",
   "metadata": {},
   "source": [
    "# 컬럼정리"
   ]
  },
  {
   "cell_type": "code",
   "execution_count": 110,
   "metadata": {},
   "outputs": [
    {
     "data": {
      "text/plain": [
       "((750, 7), (750, 1), (240, 7), (240, 1))"
      ]
     },
     "execution_count": 110,
     "metadata": {},
     "output_type": "execute_result"
    }
   ],
   "source": [
    "X_train.shape, y_train.shape, X_test.shape,y_test.shape"
   ]
  },
  {
   "cell_type": "code",
   "execution_count": 111,
   "metadata": {},
   "outputs": [
    {
     "data": {
      "text/html": [
       "<div>\n",
       "<style scoped>\n",
       "    .dataframe tbody tr th:only-of-type {\n",
       "        vertical-align: middle;\n",
       "    }\n",
       "\n",
       "    .dataframe tbody tr th {\n",
       "        vertical-align: top;\n",
       "    }\n",
       "\n",
       "    .dataframe thead th {\n",
       "        text-align: right;\n",
       "    }\n",
       "</style>\n",
       "<table border=\"1\" class=\"dataframe\">\n",
       "  <thead>\n",
       "    <tr style=\"text-align: right;\">\n",
       "      <th></th>\n",
       "      <th>거래금액</th>\n",
       "      <th>건축년도</th>\n",
       "      <th>전용면적</th>\n",
       "      <th>층</th>\n",
       "      <th>area_group</th>\n",
       "      <th>arch_group</th>\n",
       "      <th>layer_group</th>\n",
       "    </tr>\n",
       "  </thead>\n",
       "  <tbody>\n",
       "    <tr>\n",
       "      <th>0</th>\n",
       "      <td>8650</td>\n",
       "      <td>2011</td>\n",
       "      <td>29.8170</td>\n",
       "      <td>7</td>\n",
       "      <td>1000</td>\n",
       "      <td>3000</td>\n",
       "      <td>1500</td>\n",
       "    </tr>\n",
       "    <tr>\n",
       "      <th>1</th>\n",
       "      <td>36400</td>\n",
       "      <td>2007</td>\n",
       "      <td>84.8686</td>\n",
       "      <td>11</td>\n",
       "      <td>3000</td>\n",
       "      <td>2500</td>\n",
       "      <td>2000</td>\n",
       "    </tr>\n",
       "    <tr>\n",
       "      <th>2</th>\n",
       "      <td>36440</td>\n",
       "      <td>2020</td>\n",
       "      <td>59.9048</td>\n",
       "      <td>11</td>\n",
       "      <td>2000</td>\n",
       "      <td>5000</td>\n",
       "      <td>2000</td>\n",
       "    </tr>\n",
       "    <tr>\n",
       "      <th>3</th>\n",
       "      <td>14900</td>\n",
       "      <td>2016</td>\n",
       "      <td>49.9310</td>\n",
       "      <td>5</td>\n",
       "      <td>2000</td>\n",
       "      <td>5000</td>\n",
       "      <td>1000</td>\n",
       "    </tr>\n",
       "    <tr>\n",
       "      <th>4</th>\n",
       "      <td>59000</td>\n",
       "      <td>2020</td>\n",
       "      <td>84.9490</td>\n",
       "      <td>12</td>\n",
       "      <td>3000</td>\n",
       "      <td>5000</td>\n",
       "      <td>2000</td>\n",
       "    </tr>\n",
       "    <tr>\n",
       "      <th>...</th>\n",
       "      <td>...</td>\n",
       "      <td>...</td>\n",
       "      <td>...</td>\n",
       "      <td>...</td>\n",
       "      <td>...</td>\n",
       "      <td>...</td>\n",
       "      <td>...</td>\n",
       "    </tr>\n",
       "    <tr>\n",
       "      <th>745</th>\n",
       "      <td>37450</td>\n",
       "      <td>2007</td>\n",
       "      <td>84.8686</td>\n",
       "      <td>11</td>\n",
       "      <td>3000</td>\n",
       "      <td>2500</td>\n",
       "      <td>2000</td>\n",
       "    </tr>\n",
       "    <tr>\n",
       "      <th>746</th>\n",
       "      <td>38200</td>\n",
       "      <td>2007</td>\n",
       "      <td>84.8686</td>\n",
       "      <td>17</td>\n",
       "      <td>3000</td>\n",
       "      <td>2500</td>\n",
       "      <td>4000</td>\n",
       "    </tr>\n",
       "    <tr>\n",
       "      <th>747</th>\n",
       "      <td>35300</td>\n",
       "      <td>2007</td>\n",
       "      <td>84.8686</td>\n",
       "      <td>8</td>\n",
       "      <td>3000</td>\n",
       "      <td>2500</td>\n",
       "      <td>1500</td>\n",
       "    </tr>\n",
       "    <tr>\n",
       "      <th>748</th>\n",
       "      <td>35450</td>\n",
       "      <td>1996</td>\n",
       "      <td>84.9300</td>\n",
       "      <td>3</td>\n",
       "      <td>3000</td>\n",
       "      <td>1000</td>\n",
       "      <td>1000</td>\n",
       "    </tr>\n",
       "    <tr>\n",
       "      <th>749</th>\n",
       "      <td>53000</td>\n",
       "      <td>2007</td>\n",
       "      <td>113.8106</td>\n",
       "      <td>14</td>\n",
       "      <td>4000</td>\n",
       "      <td>2500</td>\n",
       "      <td>2000</td>\n",
       "    </tr>\n",
       "  </tbody>\n",
       "</table>\n",
       "<p>750 rows × 7 columns</p>\n",
       "</div>"
      ],
      "text/plain": [
       "      거래금액  건축년도      전용면적   층 area_group arch_group layer_group\n",
       "0     8650  2011   29.8170   7       1000       3000        1500\n",
       "1    36400  2007   84.8686  11       3000       2500        2000\n",
       "2    36440  2020   59.9048  11       2000       5000        2000\n",
       "3    14900  2016   49.9310   5       2000       5000        1000\n",
       "4    59000  2020   84.9490  12       3000       5000        2000\n",
       "..     ...   ...       ...  ..        ...        ...         ...\n",
       "745  37450  2007   84.8686  11       3000       2500        2000\n",
       "746  38200  2007   84.8686  17       3000       2500        4000\n",
       "747  35300  2007   84.8686   8       3000       2500        1500\n",
       "748  35450  1996   84.9300   3       3000       1000        1000\n",
       "749  53000  2007  113.8106  14       4000       2500        2000\n",
       "\n",
       "[750 rows x 7 columns]"
      ]
     },
     "execution_count": 111,
     "metadata": {},
     "output_type": "execute_result"
    }
   ],
   "source": [
    "X_train"
   ]
  },
  {
   "cell_type": "code",
   "execution_count": 112,
   "metadata": {},
   "outputs": [],
   "source": [
    "X_train.drop(['건축년도', '전용면적', '층'], axis = 1, inplace = True)\n",
    "X_test.drop(['건축년도', '전용면적', '층'], axis = 1, inplace = True)"
   ]
  },
  {
   "cell_type": "code",
   "execution_count": 113,
   "metadata": {},
   "outputs": [],
   "source": [
    "from sklearn.neighbors import KNeighborsClassifier\n",
    "knn_model = KNeighborsClassifier()"
   ]
  },
  {
   "cell_type": "code",
   "execution_count": 114,
   "metadata": {},
   "outputs": [],
   "source": [
    "X_train.drop([\"거래금액\"], axis = 1, inplace = True)\n",
    "X_test.drop([\"거래금액\"], axis = 1, inplace = True)"
   ]
  },
  {
   "cell_type": "code",
   "execution_count": 115,
   "metadata": {},
   "outputs": [],
   "source": [
    "from sklearn.tree import DecisionTreeClassifier\n",
    "tree_model = DecisionTreeClassifier(max_depth = 6)"
   ]
  },
  {
   "cell_type": "code",
   "execution_count": 116,
   "metadata": {},
   "outputs": [
    {
     "data": {
      "text/plain": [
       "DecisionTreeClassifier(max_depth=6)"
      ]
     },
     "execution_count": 116,
     "metadata": {},
     "output_type": "execute_result"
    }
   ],
   "source": [
    "tree_model.fit(X_train, y_train)"
   ]
  },
  {
   "cell_type": "code",
   "execution_count": 117,
   "metadata": {},
   "outputs": [
    {
     "data": {
      "text/plain": [
       "0.9"
      ]
     },
     "execution_count": 117,
     "metadata": {},
     "output_type": "execute_result"
    }
   ],
   "source": [
    "tree_model.score(X_train, y_train)"
   ]
  },
  {
   "cell_type": "code",
   "execution_count": 118,
   "metadata": {},
   "outputs": [
    {
     "data": {
      "text/plain": [
       "0.9"
      ]
     },
     "execution_count": 118,
     "metadata": {},
     "output_type": "execute_result"
    }
   ],
   "source": [
    "tree_model.score(X_test,y_test)"
   ]
  },
  {
   "cell_type": "code",
   "execution_count": 119,
   "metadata": {},
   "outputs": [],
   "source": [
    "from sklearn.model_selection import train_test_split\n",
    "import matplotlib.pyplot as plt"
   ]
  },
  {
   "cell_type": "code",
   "execution_count": 120,
   "metadata": {},
   "outputs": [],
   "source": [
    "# 검증 데이터 만들기(validation)\n",
    "X_train, X_val, y_train, y_val = train_test_split(X_train, y_train, random_state = 5)"
   ]
  },
  {
   "cell_type": "code",
   "execution_count": 121,
   "metadata": {},
   "outputs": [],
   "source": [
    "train_score_list = []\n",
    "val_score_list = []\n",
    "\n",
    "for md in range(1,25) : # 트리 모델이 단순 -> 복잡\n",
    "    t_model = DecisionTreeClassifier(max_depth=md)\n",
    "    t_model.fit(X_train,y_train)\n",
    "    \n",
    "    train_score = t_model.score(X_train,y_train)\n",
    "    val_score = t_model.score(X_val,y_val)\n",
    "    \n",
    "    train_score_list.append(train_score)\n",
    "    val_score_list.append(val_score)"
   ]
  },
  {
   "cell_type": "code",
   "execution_count": 122,
   "metadata": {},
   "outputs": [
    {
     "data": {
      "image/png": "[encoded data removed]",
      "text/plain": [
       "<Figure size 1080x360 with 1 Axes>"
      ]
     },
     "metadata": {
      "needs_background": "light"
     },
     "output_type": "display_data"
    }
   ],
   "source": [
    "plt.figure(figsize=(15,5)) # 가로,세로\n",
    "plt.plot(train_score_list,label='train')\n",
    "plt.plot(val_score_list,label='validation')\n",
    "plt.xticks(range(0,25))\n",
    "plt.legend(loc = \"upper right\", bbox_to_anchor = (1.12,1.02)) # 범례\n",
    "plt.xlabel('tree', position =(1,0))\n",
    "plt.ylabel('accuracy', rotation = 0, position = (1,1))\n",
    "plt.grid()\n",
    "plt.show()"
   ]
  },
  {
   "cell_type": "code",
   "execution_count": 123,
   "metadata": {},
   "outputs": [],
   "source": [
    "X_train = pd.concat([X_train, X_val])\n",
    "y_train = pd.concat([y_train, y_val])"
   ]
  },
  {
   "cell_type": "code",
   "execution_count": 124,
   "metadata": {},
   "outputs": [
    {
     "data": {
      "text/plain": [
       "DecisionTreeClassifier(max_depth=7)"
      ]
     },
     "execution_count": 124,
     "metadata": {},
     "output_type": "execute_result"
    }
   ],
   "source": [
    "final_tree = DecisionTreeClassifier(max_depth = 7)\n",
    "final_tree.fit(X_train, y_train)"
   ]
  },
  {
   "cell_type": "code",
   "execution_count": 125,
   "metadata": {},
   "outputs": [],
   "source": [
    "final_pre = final_tree.predict(X_test)"
   ]
  },
  {
   "cell_type": "code",
   "execution_count": 126,
   "metadata": {},
   "outputs": [
    {
     "data": {
      "text/plain": [
       "0.9"
      ]
     },
     "execution_count": 126,
     "metadata": {},
     "output_type": "execute_result"
    }
   ],
   "source": [
    "final_tree.score(X_train, y_train)"
   ]
  },
  {
   "cell_type": "code",
   "execution_count": 127,
   "metadata": {},
   "outputs": [
    {
     "data": {
      "text/plain": [
       "0.9"
      ]
     },
     "execution_count": 127,
     "metadata": {},
     "output_type": "execute_result"
    }
   ],
   "source": [
    "final_tree.score(X_test, y_test)"
   ]
  },
  {
   "cell_type": "code",
   "execution_count": 128,
   "metadata": {},
   "outputs": [
    {
     "data": {
      "text/html": [
       "<div>\n",
       "<style scoped>\n",
       "    .dataframe tbody tr th:only-of-type {\n",
       "        vertical-align: middle;\n",
       "    }\n",
       "\n",
       "    .dataframe tbody tr th {\n",
       "        vertical-align: top;\n",
       "    }\n",
       "\n",
       "    .dataframe thead th {\n",
       "        text-align: right;\n",
       "    }\n",
       "</style>\n",
       "<table border=\"1\" class=\"dataframe\">\n",
       "  <thead>\n",
       "    <tr style=\"text-align: right;\">\n",
       "      <th></th>\n",
       "      <th>area_group</th>\n",
       "      <th>arch_group</th>\n",
       "      <th>layer_group</th>\n",
       "    </tr>\n",
       "  </thead>\n",
       "  <tbody>\n",
       "    <tr>\n",
       "      <th>750</th>\n",
       "      <td>1000</td>\n",
       "      <td>3000</td>\n",
       "      <td>1500</td>\n",
       "    </tr>\n",
       "    <tr>\n",
       "      <th>751</th>\n",
       "      <td>3000</td>\n",
       "      <td>2500</td>\n",
       "      <td>2000</td>\n",
       "    </tr>\n",
       "    <tr>\n",
       "      <th>752</th>\n",
       "      <td>2000</td>\n",
       "      <td>5000</td>\n",
       "      <td>2000</td>\n",
       "    </tr>\n",
       "    <tr>\n",
       "      <th>753</th>\n",
       "      <td>2000</td>\n",
       "      <td>5000</td>\n",
       "      <td>1000</td>\n",
       "    </tr>\n",
       "    <tr>\n",
       "      <th>754</th>\n",
       "      <td>3000</td>\n",
       "      <td>5000</td>\n",
       "      <td>2000</td>\n",
       "    </tr>\n",
       "    <tr>\n",
       "      <th>...</th>\n",
       "      <td>...</td>\n",
       "      <td>...</td>\n",
       "      <td>...</td>\n",
       "    </tr>\n",
       "    <tr>\n",
       "      <th>985</th>\n",
       "      <td>3000</td>\n",
       "      <td>2500</td>\n",
       "      <td>2000</td>\n",
       "    </tr>\n",
       "    <tr>\n",
       "      <th>986</th>\n",
       "      <td>3000</td>\n",
       "      <td>2500</td>\n",
       "      <td>4000</td>\n",
       "    </tr>\n",
       "    <tr>\n",
       "      <th>987</th>\n",
       "      <td>3000</td>\n",
       "      <td>2500</td>\n",
       "      <td>1500</td>\n",
       "    </tr>\n",
       "    <tr>\n",
       "      <th>988</th>\n",
       "      <td>3000</td>\n",
       "      <td>1000</td>\n",
       "      <td>1000</td>\n",
       "    </tr>\n",
       "    <tr>\n",
       "      <th>989</th>\n",
       "      <td>4000</td>\n",
       "      <td>2500</td>\n",
       "      <td>2000</td>\n",
       "    </tr>\n",
       "  </tbody>\n",
       "</table>\n",
       "<p>240 rows × 3 columns</p>\n",
       "</div>"
      ],
      "text/plain": [
       "    area_group arch_group layer_group\n",
       "750       1000       3000        1500\n",
       "751       3000       2500        2000\n",
       "752       2000       5000        2000\n",
       "753       2000       5000        1000\n",
       "754       3000       5000        2000\n",
       "..         ...        ...         ...\n",
       "985       3000       2500        2000\n",
       "986       3000       2500        4000\n",
       "987       3000       2500        1500\n",
       "988       3000       1000        1000\n",
       "989       4000       2500        2000\n",
       "\n",
       "[240 rows x 3 columns]"
      ]
     },
     "execution_count": 128,
     "metadata": {},
     "output_type": "execute_result"
    }
   ],
   "source": [
    "X_test"
   ]
  },
  {
   "cell_type": "code",
   "execution_count": 129,
   "metadata": {},
   "outputs": [],
   "source": [
    "from sklearn.ensemble import RandomForestClassifier\n",
    "from sklearn.ensemble import GradientBoostingClassifier\n",
    "from sklearn.model_selection import GridSearchCV\n",
    "from sklearn.ensemble import AdaBoostClassifier\n",
    "from sklearn.tree import DecisionTreeClassifier\n",
    "from sklearn.ensemble import ExtraTreesClassifier\n",
    "from sklearn.linear_model import LogisticRegression\n",
    "from sklearn.ensemble import BaggingClassifier"
   ]
  },
  {
   "cell_type": "code",
   "execution_count": 130,
   "metadata": {},
   "outputs": [
    {
     "name": "stdout",
     "output_type": "stream",
     "text": [
      "훈련 세트 정확도 : 0.900\n",
      "테스트 세트 정확도 : 0.910\n"
     ]
    }
   ],
   "source": [
    "gb = GradientBoostingClassifier(random_state=2,learning_rate=0.19\n",
    "                                ,max_depth=5)\n",
    "gb.fit(X_train,y_train)\n",
    "print(\"훈련 세트 정확도 : {:.3f}\".format(gb.score(X_train,y_train)))\n",
    "print(\"테스트 세트 정확도 : {:.3f}\".format(gb.score(X_val,y_val)))"
   ]
  },
  {
   "cell_type": "code",
   "execution_count": 131,
   "metadata": {
    "collapsed": true
   },
   "outputs": [
    {
     "data": {
      "text/plain": [
       "array(['8650', '36400', '36440', '14900', '59000', '36400', '38200',\n",
       "       '35300', '35450', '53000', '8650', '36400', '36440', '14900',\n",
       "       '59000', '36400', '38200', '35300', '35450', '53000', '8650',\n",
       "       '36400', '36440', '14900', '59000', '36400', '38200', '35300',\n",
       "       '35450', '53000', '8650', '36400', '36440', '14900', '59000',\n",
       "       '36400', '38200', '35300', '35450', '53000', '8650', '36400',\n",
       "       '36440', '14900', '59000', '36400', '38200', '35300', '35450',\n",
       "       '53000', '8650', '36400', '36440', '14900', '59000', '36400',\n",
       "       '38200', '35300', '35450', '53000', '8650', '36400', '36440',\n",
       "       '14900', '59000', '36400', '38200', '35300', '35450', '53000',\n",
       "       '8650', '36400', '36440', '14900', '59000', '36400', '38200',\n",
       "       '35300', '35450', '53000', '8650', '36400', '36440', '14900',\n",
       "       '59000', '36400', '38200', '35300', '35450', '53000', '8650',\n",
       "       '36400', '36440', '14900', '59000', '36400', '38200', '35300',\n",
       "       '35450', '53000', '8650', '36400', '36440', '14900', '59000',\n",
       "       '36400', '38200', '35300', '35450', '53000', '8650', '36400',\n",
       "       '36440', '14900', '59000', '36400', '38200', '35300', '35450',\n",
       "       '53000', '8650', '36400', '36440', '14900', '59000', '36400',\n",
       "       '38200', '35300', '35450', '53000', '8650', '36400', '36440',\n",
       "       '14900', '59000', '36400', '38200', '35300', '35450', '53000',\n",
       "       '8650', '36400', '36440', '14900', '59000', '36400', '38200',\n",
       "       '35300', '35450', '53000', '8650', '36400', '36440', '14900',\n",
       "       '59000', '36400', '38200', '35300', '35450', '53000', '8650',\n",
       "       '36400', '36440', '14900', '59000', '36400', '38200', '35300',\n",
       "       '35450', '53000', '8650', '36400', '36440', '14900', '59000',\n",
       "       '36400', '38200', '35300', '35450', '53000', '8650', '36400',\n",
       "       '36440', '14900', '59000', '36400', '38200', '35300', '35450',\n",
       "       '53000', '8650', '36400', '36440', '14900', '59000', '36400',\n",
       "       '38200', '35300', '35450', '53000', '8650', '36400', '36440',\n",
       "       '14900', '59000', '36400', '38200', '35300', '35450', '53000',\n",
       "       '8650', '36400', '36440', '14900', '59000', '36400', '38200',\n",
       "       '35300', '35450', '53000', '8650', '36400', '36440', '14900',\n",
       "       '59000', '36400', '38200', '35300', '35450', '53000', '8650',\n",
       "       '36400', '36440', '14900', '59000', '36400', '38200', '35300',\n",
       "       '35450', '53000'], dtype=object)"
      ]
     },
     "execution_count": 131,
     "metadata": {},
     "output_type": "execute_result"
    }
   ],
   "source": [
    "gb.predict(X_test)"
   ]
  },
  {
   "cell_type": "code",
   "execution_count": 132,
   "metadata": {
    "collapsed": true
   },
   "outputs": [
    {
     "name": "stdout",
     "output_type": "stream",
     "text": [
      "훈련 세트 정확도 : 0.900\n",
      "테스트 세트 정확도 : 0.915\n"
     ]
    }
   ],
   "source": [
    "bagging = BaggingClassifier(DecisionTreeClassifier(),\n",
    "                            n_estimators=1000,oob_score = True, \n",
    "                            random_state =4)\n",
    "bagging.fit(X_train,y_train)\n",
    "print(\"훈련 세트 정확도 : {:.3f}\".format(bagging.score(X_train,y_train)))\n",
    "print(\"테스트 세트 정확도 : {:.3f}\".format(bagging.score(X_val,y_val)))"
   ]
  },
  {
   "cell_type": "code",
   "execution_count": 133,
   "metadata": {
    "collapsed": true
   },
   "outputs": [
    {
     "data": {
      "text/plain": [
       "array(['8650', '37450', '36440', '14900', '59000', '37450', '38200',\n",
       "       '35300', '35450', '53000', '8650', '37450', '36440', '14900',\n",
       "       '59000', '37450', '38200', '35300', '35450', '53000', '8650',\n",
       "       '37450', '36440', '14900', '59000', '37450', '38200', '35300',\n",
       "       '35450', '53000', '8650', '37450', '36440', '14900', '59000',\n",
       "       '37450', '38200', '35300', '35450', '53000', '8650', '37450',\n",
       "       '36440', '14900', '59000', '37450', '38200', '35300', '35450',\n",
       "       '53000', '8650', '37450', '36440', '14900', '59000', '37450',\n",
       "       '38200', '35300', '35450', '53000', '8650', '37450', '36440',\n",
       "       '14900', '59000', '37450', '38200', '35300', '35450', '53000',\n",
       "       '8650', '37450', '36440', '14900', '59000', '37450', '38200',\n",
       "       '35300', '35450', '53000', '8650', '37450', '36440', '14900',\n",
       "       '59000', '37450', '38200', '35300', '35450', '53000', '8650',\n",
       "       '37450', '36440', '14900', '59000', '37450', '38200', '35300',\n",
       "       '35450', '53000', '8650', '37450', '36440', '14900', '59000',\n",
       "       '37450', '38200', '35300', '35450', '53000', '8650', '37450',\n",
       "       '36440', '14900', '59000', '37450', '38200', '35300', '35450',\n",
       "       '53000', '8650', '37450', '36440', '14900', '59000', '37450',\n",
       "       '38200', '35300', '35450', '53000', '8650', '37450', '36440',\n",
       "       '14900', '59000', '37450', '38200', '35300', '35450', '53000',\n",
       "       '8650', '37450', '36440', '14900', '59000', '37450', '38200',\n",
       "       '35300', '35450', '53000', '8650', '37450', '36440', '14900',\n",
       "       '59000', '37450', '38200', '35300', '35450', '53000', '8650',\n",
       "       '37450', '36440', '14900', '59000', '37450', '38200', '35300',\n",
       "       '35450', '53000', '8650', '37450', '36440', '14900', '59000',\n",
       "       '37450', '38200', '35300', '35450', '53000', '8650', '37450',\n",
       "       '36440', '14900', '59000', '37450', '38200', '35300', '35450',\n",
       "       '53000', '8650', '37450', '36440', '14900', '59000', '37450',\n",
       "       '38200', '35300', '35450', '53000', '8650', '37450', '36440',\n",
       "       '14900', '59000', '37450', '38200', '35300', '35450', '53000',\n",
       "       '8650', '37450', '36440', '14900', '59000', '37450', '38200',\n",
       "       '35300', '35450', '53000', '8650', '37450', '36440', '14900',\n",
       "       '59000', '37450', '38200', '35300', '35450', '53000', '8650',\n",
       "       '37450', '36440', '14900', '59000', '37450', '38200', '35300',\n",
       "       '35450', '53000'], dtype=object)"
      ]
     },
     "execution_count": 133,
     "metadata": {},
     "output_type": "execute_result"
    }
   ],
   "source": [
    "bagging.predict(X_test)"
   ]
  },
  {
   "cell_type": "code",
   "execution_count": 134,
   "metadata": {
    "scrolled": true
   },
   "outputs": [],
   "source": [
    "y_test[\"거래금액\"] = ada.predict(X_test)"
   ]
  },
  {
   "cell_type": "code",
   "execution_count": 135,
   "metadata": {},
   "outputs": [],
   "source": [
    "y_test[\"거래금액\"].to_csv('price.csv', index = False)"
   ]
  },
  {
   "cell_type": "markdown",
   "metadata": {},
   "source": [
    "# LinearRegression"
   ]
  },
  {
   "cell_type": "code",
   "execution_count": 136,
   "metadata": {},
   "outputs": [],
   "source": [
    "from sklearn.linear_model import LinearRegression"
   ]
  },
  {
   "cell_type": "code",
   "execution_count": 137,
   "metadata": {},
   "outputs": [],
   "source": [
    "linear_model = LinearRegression()"
   ]
  },
  {
   "cell_type": "code",
   "execution_count": 138,
   "metadata": {},
   "outputs": [
    {
     "data": {
      "text/plain": [
       "LinearRegression()"
      ]
     },
     "execution_count": 138,
     "metadata": {},
     "output_type": "execute_result"
    }
   ],
   "source": [
    "linear_model.fit(X_train,y_train)"
   ]
  },
  {
   "cell_type": "code",
   "execution_count": 139,
   "metadata": {},
   "outputs": [
    {
     "name": "stdout",
     "output_type": "stream",
     "text": [
      "train score :  0.7936784622123862\n",
      "test score :  -0.6961268972577785\n"
     ]
    }
   ],
   "source": [
    "print('train score : ', linear_model.score(X_train,y_train))\n",
    "print('test score : ', linear_model.score(X_test,y_test))"
   ]
  },
  {
   "cell_type": "code",
   "execution_count": 150,
   "metadata": {},
   "outputs": [],
   "source": [
    "y_test[\"거래금액\"] = linear_model.predict(X_test)"
   ]
  },
  {
   "cell_type": "code",
   "execution_count": 152,
   "metadata": {},
   "outputs": [],
   "source": [
    "y_test[\"거래금액\"] = y_test[\"거래금액\"].apply(int)"
   ]
  },
  {
   "cell_type": "code",
   "execution_count": 153,
   "metadata": {},
   "outputs": [],
   "source": [
    "y_test[\"거래금액\"].to_csv('price.csv', index = False)"
   ]
  },
  {
   "cell_type": "markdown",
   "metadata": {},
   "source": [
    "# Lasso"
   ]
  },
  {
   "cell_type": "code",
   "execution_count": 154,
   "metadata": {},
   "outputs": [],
   "source": [
    "from sklearn.linear_model import Lasso"
   ]
  },
  {
   "cell_type": "code",
   "execution_count": 155,
   "metadata": {},
   "outputs": [
    {
     "name": "stdout",
     "output_type": "stream",
     "text": [
      "train score :  0.7936784622123646\n",
      "test score :  0.9999999978574696\n"
     ]
    }
   ],
   "source": [
    "lasso_model = Lasso(alpha = 1)\n",
    "lasso_model.fit(X_train,y_train)\n",
    "print('train score : ', lasso_model.score(X_train,y_train))\n",
    "print('test score : ', lasso_model.score(X_test,y_test))"
   ]
  },
  {
   "cell_type": "code",
   "execution_count": 156,
   "metadata": {},
   "outputs": [
    {
     "name": "stdout",
     "output_type": "stream",
     "text": [
      "test_size가 1일 때 train은 0.7936784622123646이고 test는 0.9999999978574696이다\n",
      "test_size가 2일 때 train은 0.7936784622122999이고 test는 0.9999999978618273이다\n",
      "test_size가 3일 때 train은 0.7936784622121928이고 test는 0.9999999978661309이다\n",
      "test_size가 4일 때 train은 0.7936784622120355이고 test는 0.9999999978704895이다\n",
      "test_size가 5일 때 train은 0.7936784622118409이고 test는 0.9999999978746833이다\n",
      "test_size가 6일 때 train은 0.7936784622116039이고 test는 0.9999999978788233이다\n",
      "test_size가 7일 때 train은 0.7936784622113239이고 test는 0.9999999978829095이다\n",
      "test_size가 8일 때 train은 0.7936784622110012이고 test는 0.9999999978869417이다\n",
      "test_size가 9일 때 train은 0.7936784622106358이고 test는 0.9999999978909202이다\n",
      "test_size가 10일 때 train은 0.7936784622102276이고 test는 0.9999999978948448이다\n",
      "test_size가 11일 때 train은 0.7936784622097767이고 test는 0.9999999978987157이다\n",
      "test_size가 12일 때 train은 0.7936784622092832이고 test는 0.9999999979025327이다\n",
      "test_size가 13일 때 train은 0.7936784622087469이고 test는 0.9999999979062958이다\n",
      "test_size가 14일 때 train은 0.793678462208168이고 test는 0.9999999979100052이다\n"
     ]
    }
   ],
   "source": [
    "for i in range(1,15) :\n",
    "    lasso_model = Lasso(alpha = i)   \n",
    "    lasso_model.fit(X_train,y_train)\n",
    "    \n",
    "    train_score = lasso_model.score(X_train,y_train)\n",
    "    test_score = lasso_model.score(X_test,y_test)\n",
    "    print(\"test_size가 {}일 때 train은 {}이고 test는 {}이다\".format(i,train_score,test_score))"
   ]
  },
  {
   "cell_type": "code",
   "execution_count": 157,
   "metadata": {},
   "outputs": [
    {
     "data": {
      "text/plain": [
       "array([16.88508964,  3.8770143 ,  2.05865878])"
      ]
     },
     "execution_count": 157,
     "metadata": {},
     "output_type": "execute_result"
    }
   ],
   "source": [
    "lasso_model.coef_ #182개 특성이 사용한 가중치 값"
   ]
  },
  {
   "cell_type": "code",
   "execution_count": 158,
   "metadata": {},
   "outputs": [
    {
     "data": {
      "text/plain": [
       "array([ True,  True,  True])"
      ]
     },
     "execution_count": 158,
     "metadata": {},
     "output_type": "execute_result"
    }
   ],
   "source": [
    "# False = 가중치 0\n",
    "# True = 가중치가 0이 아님\n",
    "lasso_model.coef_!=0"
   ]
  },
  {
   "cell_type": "code",
   "execution_count": 159,
   "metadata": {},
   "outputs": [
    {
     "data": {
      "text/plain": [
       "3"
      ]
     },
     "execution_count": 159,
     "metadata": {},
     "output_type": "execute_result"
    }
   ],
   "source": [
    "# True의 갯수를 세줌\n",
    "np.sum(lasso_model.coef_!=0)"
   ]
  },
  {
   "cell_type": "code",
   "execution_count": 160,
   "metadata": {},
   "outputs": [
    {
     "name": "stdout",
     "output_type": "stream",
     "text": [
      "train score :  0.7936784622123864\n",
      "test score :  0.9999999978530337\n",
      "사용한 특성의 개수 :  3\n"
     ]
    }
   ],
   "source": [
    "lasso_model = Lasso(alpha = 0.001)\n",
    "lasso_model.fit(X_train,y_train)\n",
    "print('train score : ', lasso_model.score(X_train,y_train))\n",
    "print('test score : ', lasso_model.score(X_test,y_test))\n",
    "print('사용한 특성의 개수 : ',np.sum(lasso_model.coef_!=0))"
   ]
  },
  {
   "cell_type": "code",
   "execution_count": 161,
   "metadata": {},
   "outputs": [
    {
     "name": "stdout",
     "output_type": "stream",
     "text": [
      "train score :  0.7936784622123865\n",
      "test score :  0.9999999978530738\n",
      "사용한 특성의 개수 :  3\n"
     ]
    }
   ],
   "source": [
    "lasso_model = Lasso(alpha = 0.01)\n",
    "lasso_model.fit(X_train,y_train)\n",
    "print('train score : ', lasso_model.score(X_train,y_train))\n",
    "print('test score : ', lasso_model.score(X_test,y_test))\n",
    "print('사용한 특성의 개수 : ',np.sum(lasso_model.coef_!=0))"
   ]
  },
  {
   "cell_type": "code",
   "execution_count": 163,
   "metadata": {},
   "outputs": [],
   "source": [
    "y_test[\"거래금액\"] = lasso_model.predict(X_test)"
   ]
  },
  {
   "cell_type": "code",
   "execution_count": 164,
   "metadata": {},
   "outputs": [],
   "source": [
    "y_test[\"거래금액\"] = y_test[\"거래금액\"].apply(int)"
   ]
  },
  {
   "cell_type": "code",
   "execution_count": 165,
   "metadata": {},
   "outputs": [],
   "source": [
    "y_test[\"거래금액\"].to_csv('price.csv', index = False)"
   ]
  },
  {
   "cell_type": "markdown",
   "metadata": {},
   "source": [
    "# Ridge"
   ]
  },
  {
   "cell_type": "code",
   "execution_count": 167,
   "metadata": {},
   "outputs": [],
   "source": [
    "from sklearn.linear_model import Ridge"
   ]
  },
  {
   "cell_type": "code",
   "execution_count": 168,
   "metadata": {},
   "outputs": [
    {
     "name": "stdout",
     "output_type": "stream",
     "text": [
      "train score :  0.7936784622123862\n",
      "test score :  0.9999999978530293\n",
      "사용한 특성의 개수 :  3\n"
     ]
    }
   ],
   "source": [
    "ridge_model = Ridge(alpha = 0.001)\n",
    "ridge_model.fit(X_train,y_train)\n",
    "print('train score : ', ridge_model.score(X_train,y_train))\n",
    "print('test score : ', ridge_model.score(X_test,y_test))\n",
    "print('사용한 특성의 개수 : ',np.sum(ridge_model.coef_!=0))"
   ]
  },
  {
   "cell_type": "code",
   "execution_count": 169,
   "metadata": {},
   "outputs": [
    {
     "name": "stdout",
     "output_type": "stream",
     "text": [
      "train score :  0.7936784622123861\n",
      "test score :  0.9999999978530296\n",
      "사용한 특성의 개수 :  3\n"
     ]
    }
   ],
   "source": [
    "ridge_model = Ridge(alpha = 0.01)\n",
    "ridge_model.fit(X_train,y_train)\n",
    "print('train score : ', ridge_model.score(X_train,y_train))\n",
    "print('test score : ', ridge_model.score(X_test,y_test))\n",
    "print('사용한 특성의 개수 : ',np.sum(ridge_model.coef_!=0))"
   ]
  },
  {
   "cell_type": "code",
   "execution_count": 170,
   "metadata": {},
   "outputs": [
    {
     "name": "stdout",
     "output_type": "stream",
     "text": [
      "train score :  0.7936784622123864\n",
      "test score :  0.9999999978531598\n",
      "사용한 특성의 개수 :  3\n"
     ]
    }
   ],
   "source": [
    "ridge_model = Ridge(alpha = 3)\n",
    "ridge_model.fit(X_train,y_train)\n",
    "print('train score : ', ridge_model.score(X_train,y_train))\n",
    "print('test score : ', ridge_model.score(X_test,y_test))\n",
    "print('사용한 특성의 개수 : ',np.sum(ridge_model.coef_!=0))"
   ]
  },
  {
   "cell_type": "code",
   "execution_count": 171,
   "metadata": {
    "collapsed": true
   },
   "outputs": [
    {
     "data": {
      "text/plain": [
       "array([[ 5369.27390253],\n",
       "       [38230.3335739 ],\n",
       "       [31037.78978092],\n",
       "       [28979.11539718],\n",
       "       [47922.90851476],\n",
       "       [38230.3335739 ],\n",
       "       [42347.68234138],\n",
       "       [37200.99638203],\n",
       "       [30356.11422565],\n",
       "       [55115.45230774],\n",
       "       [ 5369.27390253],\n",
       "       [38230.3335739 ],\n",
       "       [31037.78978092],\n",
       "       [28979.11539718],\n",
       "       [47922.90851476],\n",
       "       [38230.3335739 ],\n",
       "       [42347.68234138],\n",
       "       [37200.99638203],\n",
       "       [30356.11422565],\n",
       "       [55115.45230774],\n",
       "       [ 5369.27390253],\n",
       "       [38230.3335739 ],\n",
       "       [31037.78978092],\n",
       "       [28979.11539718],\n",
       "       [47922.90851476],\n",
       "       [38230.3335739 ],\n",
       "       [42347.68234138],\n",
       "       [37200.99638203],\n",
       "       [30356.11422565],\n",
       "       [55115.45230774],\n",
       "       [ 5369.27390253],\n",
       "       [38230.3335739 ],\n",
       "       [31037.78978092],\n",
       "       [28979.11539718],\n",
       "       [47922.90851476],\n",
       "       [38230.3335739 ],\n",
       "       [42347.68234138],\n",
       "       [37200.99638203],\n",
       "       [30356.11422565],\n",
       "       [55115.45230774],\n",
       "       [ 5369.27390253],\n",
       "       [38230.3335739 ],\n",
       "       [31037.78978092],\n",
       "       [28979.11539718],\n",
       "       [47922.90851476],\n",
       "       [38230.3335739 ],\n",
       "       [42347.68234138],\n",
       "       [37200.99638203],\n",
       "       [30356.11422565],\n",
       "       [55115.45230774],\n",
       "       [ 5369.27390253],\n",
       "       [38230.3335739 ],\n",
       "       [31037.78978092],\n",
       "       [28979.11539718],\n",
       "       [47922.90851476],\n",
       "       [38230.3335739 ],\n",
       "       [42347.68234138],\n",
       "       [37200.99638203],\n",
       "       [30356.11422565],\n",
       "       [55115.45230774],\n",
       "       [ 5369.27390253],\n",
       "       [38230.3335739 ],\n",
       "       [31037.78978092],\n",
       "       [28979.11539718],\n",
       "       [47922.90851476],\n",
       "       [38230.3335739 ],\n",
       "       [42347.68234138],\n",
       "       [37200.99638203],\n",
       "       [30356.11422565],\n",
       "       [55115.45230774],\n",
       "       [ 5369.27390253],\n",
       "       [38230.3335739 ],\n",
       "       [31037.78978092],\n",
       "       [28979.11539718],\n",
       "       [47922.90851476],\n",
       "       [38230.3335739 ],\n",
       "       [42347.68234138],\n",
       "       [37200.99638203],\n",
       "       [30356.11422565],\n",
       "       [55115.45230774],\n",
       "       [ 5369.27390253],\n",
       "       [38230.3335739 ],\n",
       "       [31037.78978092],\n",
       "       [28979.11539718],\n",
       "       [47922.90851476],\n",
       "       [38230.3335739 ],\n",
       "       [42347.68234138],\n",
       "       [37200.99638203],\n",
       "       [30356.11422565],\n",
       "       [55115.45230774],\n",
       "       [ 5369.27390253],\n",
       "       [38230.3335739 ],\n",
       "       [31037.78978092],\n",
       "       [28979.11539718],\n",
       "       [47922.90851476],\n",
       "       [38230.3335739 ],\n",
       "       [42347.68234138],\n",
       "       [37200.99638203],\n",
       "       [30356.11422565],\n",
       "       [55115.45230774],\n",
       "       [ 5369.27390253],\n",
       "       [38230.3335739 ],\n",
       "       [31037.78978092],\n",
       "       [28979.11539718],\n",
       "       [47922.90851476],\n",
       "       [38230.3335739 ],\n",
       "       [42347.68234138],\n",
       "       [37200.99638203],\n",
       "       [30356.11422565],\n",
       "       [55115.45230774],\n",
       "       [ 5369.27390253],\n",
       "       [38230.3335739 ],\n",
       "       [31037.78978092],\n",
       "       [28979.11539718],\n",
       "       [47922.90851476],\n",
       "       [38230.3335739 ],\n",
       "       [42347.68234138],\n",
       "       [37200.99638203],\n",
       "       [30356.11422565],\n",
       "       [55115.45230774],\n",
       "       [ 5369.27390253],\n",
       "       [38230.3335739 ],\n",
       "       [31037.78978092],\n",
       "       [28979.11539718],\n",
       "       [47922.90851476],\n",
       "       [38230.3335739 ],\n",
       "       [42347.68234138],\n",
       "       [37200.99638203],\n",
       "       [30356.11422565],\n",
       "       [55115.45230774],\n",
       "       [ 5369.27390253],\n",
       "       [38230.3335739 ],\n",
       "       [31037.78978092],\n",
       "       [28979.11539718],\n",
       "       [47922.90851476],\n",
       "       [38230.3335739 ],\n",
       "       [42347.68234138],\n",
       "       [37200.99638203],\n",
       "       [30356.11422565],\n",
       "       [55115.45230774],\n",
       "       [ 5369.27390253],\n",
       "       [38230.3335739 ],\n",
       "       [31037.78978092],\n",
       "       [28979.11539718],\n",
       "       [47922.90851476],\n",
       "       [38230.3335739 ],\n",
       "       [42347.68234138],\n",
       "       [37200.99638203],\n",
       "       [30356.11422565],\n",
       "       [55115.45230774],\n",
       "       [ 5369.27390253],\n",
       "       [38230.3335739 ],\n",
       "       [31037.78978092],\n",
       "       [28979.11539718],\n",
       "       [47922.90851476],\n",
       "       [38230.3335739 ],\n",
       "       [42347.68234138],\n",
       "       [37200.99638203],\n",
       "       [30356.11422565],\n",
       "       [55115.45230774],\n",
       "       [ 5369.27390253],\n",
       "       [38230.3335739 ],\n",
       "       [31037.78978092],\n",
       "       [28979.11539718],\n",
       "       [47922.90851476],\n",
       "       [38230.3335739 ],\n",
       "       [42347.68234138],\n",
       "       [37200.99638203],\n",
       "       [30356.11422565],\n",
       "       [55115.45230774],\n",
       "       [ 5369.27390253],\n",
       "       [38230.3335739 ],\n",
       "       [31037.78978092],\n",
       "       [28979.11539718],\n",
       "       [47922.90851476],\n",
       "       [38230.3335739 ],\n",
       "       [42347.68234138],\n",
       "       [37200.99638203],\n",
       "       [30356.11422565],\n",
       "       [55115.45230774],\n",
       "       [ 5369.27390253],\n",
       "       [38230.3335739 ],\n",
       "       [31037.78978092],\n",
       "       [28979.11539718],\n",
       "       [47922.90851476],\n",
       "       [38230.3335739 ],\n",
       "       [42347.68234138],\n",
       "       [37200.99638203],\n",
       "       [30356.11422565],\n",
       "       [55115.45230774],\n",
       "       [ 5369.27390253],\n",
       "       [38230.3335739 ],\n",
       "       [31037.78978092],\n",
       "       [28979.11539718],\n",
       "       [47922.90851476],\n",
       "       [38230.3335739 ],\n",
       "       [42347.68234138],\n",
       "       [37200.99638203],\n",
       "       [30356.11422565],\n",
       "       [55115.45230774],\n",
       "       [ 5369.27390253],\n",
       "       [38230.3335739 ],\n",
       "       [31037.78978092],\n",
       "       [28979.11539718],\n",
       "       [47922.90851476],\n",
       "       [38230.3335739 ],\n",
       "       [42347.68234138],\n",
       "       [37200.99638203],\n",
       "       [30356.11422565],\n",
       "       [55115.45230774],\n",
       "       [ 5369.27390253],\n",
       "       [38230.3335739 ],\n",
       "       [31037.78978092],\n",
       "       [28979.11539718],\n",
       "       [47922.90851476],\n",
       "       [38230.3335739 ],\n",
       "       [42347.68234138],\n",
       "       [37200.99638203],\n",
       "       [30356.11422565],\n",
       "       [55115.45230774],\n",
       "       [ 5369.27390253],\n",
       "       [38230.3335739 ],\n",
       "       [31037.78978092],\n",
       "       [28979.11539718],\n",
       "       [47922.90851476],\n",
       "       [38230.3335739 ],\n",
       "       [42347.68234138],\n",
       "       [37200.99638203],\n",
       "       [30356.11422565],\n",
       "       [55115.45230774],\n",
       "       [ 5369.27390253],\n",
       "       [38230.3335739 ],\n",
       "       [31037.78978092],\n",
       "       [28979.11539718],\n",
       "       [47922.90851476],\n",
       "       [38230.3335739 ],\n",
       "       [42347.68234138],\n",
       "       [37200.99638203],\n",
       "       [30356.11422565],\n",
       "       [55115.45230774]])"
      ]
     },
     "execution_count": 171,
     "metadata": {},
     "output_type": "execute_result"
    }
   ],
   "source": [
    "ridge_model.predict(X_test)"
   ]
  },
  {
   "cell_type": "code",
   "execution_count": null,
   "metadata": {},
   "outputs": [],
   "source": []
  },
  {
   "cell_type": "code",
   "execution_count": null,
   "metadata": {},
   "outputs": [],
   "source": []
  },
  {
   "cell_type": "code",
   "execution_count": null,
   "metadata": {},
   "outputs": [],
   "source": []
  },
  {
   "cell_type": "code",
   "execution_count": null,
   "metadata": {},
   "outputs": [],
   "source": []
  },
  {
   "cell_type": "code",
   "execution_count": null,
   "metadata": {},
   "outputs": [],
   "source": []
  },
  {
   "cell_type": "code",
   "execution_count": null,
   "metadata": {},
   "outputs": [],
   "source": []
  },
  {
   "cell_type": "code",
   "execution_count": null,
   "metadata": {},
   "outputs": [],
   "source": []
  },
  {
   "cell_type": "code",
   "execution_count": null,
   "metadata": {},
   "outputs": [],
   "source": []
  },
  {
   "cell_type": "code",
   "execution_count": null,
   "metadata": {},
   "outputs": [],
   "source": []
  },
  {
   "cell_type": "code",
   "execution_count": null,
   "metadata": {},
   "outputs": [],
   "source": []
  },
  {
   "cell_type": "code",
   "execution_count": null,
   "metadata": {},
   "outputs": [],
   "source": []
  },
  {
   "cell_type": "code",
   "execution_count": null,
   "metadata": {},
   "outputs": [],
   "source": []
  },
  {
   "cell_type": "code",
   "execution_count": null,
   "metadata": {},
   "outputs": [],
   "source": []
  }
 ],
 "metadata": {
  "kernelspec": {
   "display_name": "Python 3",
   "language": "python",
   "name": "python3"
  },
  "language_info": {
   "codemirror_mode": {
    "name": "ipython",
    "version": 3
   },
   "file_extension": ".py",
   "mimetype": "text/x-python",
   "name": "python",
   "nbconvert_exporter": "python",
   "pygments_lexer": "ipython3",
   "version": "3.8.5"
  },
  "toc": {
   "base_numbering": 1,
   "nav_menu": {},
   "number_sections": true,
   "sideBar": true,
   "skip_h1_title": false,
   "title_cell": "Table of Contents",
   "title_sidebar": "Contents",
   "toc_cell": false,
   "toc_position": {},
   "toc_section_display": true,
   "toc_window_display": false
  }
 },
 "nbformat": 4,
 "nbformat_minor": 4
}
